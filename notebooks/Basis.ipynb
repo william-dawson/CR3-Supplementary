{
 "cells": [
  {
   "cell_type": "markdown",
   "id": "graphic-liberty",
   "metadata": {},
   "source": [
    "# Basis Set Dependence\n",
    "In this notebook we will check the basis set dependence of the purity indicator and bond orders."
   ]
  },
  {
   "cell_type": "code",
   "execution_count": null,
   "id": "refined-isolation",
   "metadata": {},
   "outputs": [],
   "source": [
    "from os.path import join\n",
    "geom = \"renumber\"\n",
    "bsets = [\"STO-3G\", \"MINI\", \"MIDI\",\n",
    "         \"pcseg-0\", \"pcseg-1\", \"pcseg-2\", \"pcseg-3\",\n",
    "         \"def2-SVP\", \"def2-SVPD\", \"def2-TZVP\", \"def2-TZVPD\"]\n",
    "\n",
    "markers = {}\n",
    "msize = {}\n",
    "markers[\"STO_3G\"] = \"+\"\n",
    "markers[\"MINI\"] = \"x\"\n",
    "markers[\"MIDI\"] = \"d\"\n",
    "msize[\"STO_3G\"] = 12\n",
    "msize[\"MINI\"] = 12\n",
    "msize[\"MIDI\"] = 8\n",
    "\n",
    "markers[\"pcseg_0\"] = \"+\"\n",
    "markers[\"pcseg_1\"] = \"x\"\n",
    "markers[\"pcseg_2\"] = \"d\"\n",
    "markers[\"pcseg_3\"] = \"v\"\n",
    "msize[\"pcseg_0\"] = 12\n",
    "msize[\"pcseg_1\"] = 12\n",
    "msize[\"pcseg_2\"] = 8\n",
    "msize[\"pcseg_3\"] = 8\n",
    "\n",
    "markers[\"def2_SVP\"] = \"+\"\n",
    "markers[\"def2_SVPD\"] = \"x\"\n",
    "markers[\"def2_TZVP\"] = \"d\"\n",
    "markers[\"def2_TZVPD\"] = \"v\"\n",
    "msize[\"def2_SVP\"] = 12\n",
    "msize[\"def2_SVPD\"] = 12\n",
    "msize[\"def2_TZVP\"] = 8\n",
    "msize[\"def2_TZVPD\"] = 8"
   ]
  },
  {
   "cell_type": "markdown",
   "id": "66aed34c",
   "metadata": {},
   "source": [
    "Read in the file."
   ]
  },
  {
   "cell_type": "code",
   "execution_count": null,
   "id": "ethical-customs",
   "metadata": {},
   "outputs": [],
   "source": [
    "from pyntchem.io import read_pdb\n",
    "with open(join(\"input\", geom + \".pdb\")) as ifile:\n",
    "    sys = read_pdb(ifile)"
   ]
  },
  {
   "cell_type": "markdown",
   "id": "6987c463",
   "metadata": {},
   "source": [
    "Setup the input file."
   ]
  },
  {
   "cell_type": "code",
   "execution_count": null,
   "id": "raising-christopher",
   "metadata": {},
   "outputs": [],
   "source": [
    "from pyntchem.basis import BasisSet\n",
    "basis = [BasisSet(x, sys.get_symlookup()) for x in bsets]"
   ]
  },
  {
   "cell_type": "code",
   "execution_count": null,
   "id": "integrated-destiny",
   "metadata": {},
   "outputs": [],
   "source": [
    "from pyntchem.inputfile import Inputfile\n",
    "inp = Inputfile()\n",
    "inp.set_basic_dft(xtype=\"pbe\", ctype=\"pbe\")\n",
    "inp.set_dft_prune_grid(50, 194)\n",
    "inp.set_scf_guess(\"gwh\")\n",
    "inp[\"scf\"].pulayperiod = 2\n",
    "inp[\"scf\"].facdamp = 0.95\n",
    "inp[\"scf\"].exchtype = \"None\"\n",
    "inp[\"scf\"].writeanal = True\n",
    "\n",
    "inp[\"int2\"].prelinkjthreshold = 1e-8\n",
    "inp[\"int2\"].prelinkkthreshold = 1e-4"
   ]
  },
  {
   "cell_type": "code",
   "execution_count": null,
   "id": "caring-enlargement",
   "metadata": {},
   "outputs": [],
   "source": [
    "from pyntchem.calculator import JobscriptCalculator\n",
    "calc = JobscriptCalculator(computer=\"Spring\", skip=True, verbose=True)\n",
    "args = {\"nodes\": 1, \"tasks_per_node\": 4, \"omp\": 9,  \"queue\": \"winter2\"}"
   ]
  },
  {
   "cell_type": "markdown",
   "id": "aware-induction",
   "metadata": {},
   "source": [
    "First calculation."
   ]
  },
  {
   "cell_type": "code",
   "execution_count": null,
   "id": "municipal-correspondence",
   "metadata": {},
   "outputs": [],
   "source": [
    "calc.run(sys, inp, basis[0], name=basis[0].name, \n",
    "         run_dir=join(\"work-basis\"),  **args)"
   ]
  },
  {
   "cell_type": "code",
   "execution_count": null,
   "id": "artificial-edgar",
   "metadata": {},
   "outputs": [],
   "source": [
    "from time import sleep\n",
    "while not calc.check_results(): sleep(10.0)\n",
    "logfiles = {x: y.log for x, y in calc.calculations.items()}"
   ]
  },
  {
   "cell_type": "markdown",
   "id": "polyphonic-jonathan",
   "metadata": {},
   "source": [
    "Remaining basis sets."
   ]
  },
  {
   "cell_type": "code",
   "execution_count": null,
   "id": "identical-reform",
   "metadata": {},
   "outputs": [],
   "source": [
    "from pyntchem.preprocessing import put_guess_matrix\n",
    "from contextlib import suppress\n",
    "\n",
    "inp.set_scf_guess(\"readdens\")\n",
    "inp.set_project()\n",
    "inp[\"scf\"].vshift = 0\n",
    "for i in range(1, len(basis)):\n",
    "    alp = logfiles[basis[i-1].name].densalp\n",
    "    with suppress(IOError):\n",
    "        put_guess_matrix(join(\"work-basis\"), \n",
    "                         basis[i].name, dens_alp_file=alp)\n",
    "    \n",
    "    calc.run(sys, inp, basis[i], name=basis[i].name, \n",
    "             basis_set_proj = basis[i-1],\n",
    "             run_dir=join(\"work-basis\"),  **args)\n",
    "    \n",
    "    while not calc.check_results(): sleep(10.0)\n",
    "    logfiles = {x: y.log for x, y in calc.calculations.items()}"
   ]
  },
  {
   "cell_type": "markdown",
   "id": "private-spank",
   "metadata": {},
   "source": [
    "Post-process to look at the purity values."
   ]
  },
  {
   "cell_type": "code",
   "execution_count": null,
   "id": "approved-second",
   "metadata": {},
   "outputs": [],
   "source": [
    "from pyntchem.postprocessing import NTChemTool\n",
    "tool = NTChemTool()\n",
    "\n",
    "purities = {}\n",
    "for b in basis:\n",
    "    log = logfiles[b.name]\n",
    "    purities[b.name] = tool.run_compute_purity(sys, log)"
   ]
  },
  {
   "cell_type": "markdown",
   "id": "infinite-spain",
   "metadata": {},
   "source": [
    "Also bond order values."
   ]
  },
  {
   "cell_type": "code",
   "execution_count": null,
   "id": "latin-climate",
   "metadata": {},
   "outputs": [],
   "source": [
    "bond_orders = {}\n",
    "for b in basis:\n",
    "    log = logfiles[b.name]\n",
    "    bond_orders[b.name] = tool.fragment_bond_order(sys, list(sys), list(sys), log)"
   ]
  },
  {
   "cell_type": "markdown",
   "id": "hydraulic-lunch",
   "metadata": {},
   "source": [
    "Read in BigDFT results."
   ]
  },
  {
   "cell_type": "code",
   "execution_count": null,
   "id": "surprising-middle",
   "metadata": {},
   "outputs": [],
   "source": [
    "from pickle import load\n",
    "with open(\"bigdft.cache\", \"rb\") as ifile:\n",
    "    purities[\"BigDFT\"], bond_orders[\"BigDFT\"] = load(ifile)"
   ]
  },
  {
   "cell_type": "markdown",
   "id": "injured-omega",
   "metadata": {},
   "source": [
    "Plot purity values."
   ]
  },
  {
   "cell_type": "code",
   "execution_count": null,
   "id": "empirical-internship",
   "metadata": {},
   "outputs": [],
   "source": [
    "order = sorted(sys, key=lambda x: int(x.split(\":\")[1]))"
   ]
  },
  {
   "cell_type": "code",
   "execution_count": null,
   "id": "acoustic-silly",
   "metadata": {},
   "outputs": [],
   "source": [
    "from matplotlib import pyplot as plt\n",
    "fig, axs = plt.subplots(1, 3, figsize=(12, 5))\n",
    "\n",
    "for b in basis:\n",
    "    if \"pcseg\" in b.name:\n",
    "        i = 1\n",
    "        n = b.name.upper()\n",
    "    elif \"def2\" in b.name:\n",
    "        i = 2\n",
    "        n = b.name\n",
    "    else:\n",
    "        i = 0\n",
    "        n = b.name\n",
    "    n = n.replace(\"_\", \"-\")\n",
    "    axs[i].plot([purities[b.name][k] for k in order], \n",
    "                label=n, marker=markers[b.name],\n",
    "                markersize=msize[b.name])\n",
    "    \n",
    "for i in range(3):\n",
    "    axs[i].plot([purities[\"BigDFT\"][k] for k in order], \n",
    "                label=\"BigDFT\", linestyle=\"--\", color='k', linewidth=2)\n",
    "    \n",
    "for i in range(3):\n",
    "    axs[i].legend(loc=\"lower center\", ncol=2)\n",
    "    axs[i].set_ylim(-0.13, 0)\n",
    "    axs[i].set_xticks(range(len(order)))\n",
    "    axs[i].set_xticklabels(order, rotation=90)\n",
    "    axs[i].tick_params(axis='both', which='major', labelsize=16)\n",
    "\n",
    "axs[0].set_title(\"Minimal\", fontsize=18)\n",
    "axs[1].set_title(\"Jensen\", fontsize=18)\n",
    "axs[2].set_title(\"Karlsruhe\", fontsize=18)\n",
    "axs[0].set_ylabel(\"Purity Indicator\", fontsize=18)\n",
    "fig.tight_layout()\n",
    "fig.savefig(\"basis-pi.png\", dpi=600)"
   ]
  },
  {
   "cell_type": "markdown",
   "id": "alpine-divorce",
   "metadata": {},
   "source": [
    "Plot bond orders."
   ]
  },
  {
   "cell_type": "code",
   "execution_count": null,
   "id": "average-tablet",
   "metadata": {},
   "outputs": [],
   "source": [
    "relevant = []\n",
    "for k1, v1 in bond_orders[\"BigDFT\"].items():\n",
    "    for k2, v2 in v1.items():\n",
    "        if k1 == k2:\n",
    "            continue\n",
    "        if (k2, k1) in relevant:\n",
    "            continue\n",
    "        if \"MOL\" in k1:\n",
    "            if v2 > 1e-2:\n",
    "                relevant.append((k1, k2))\n",
    "        else:\n",
    "            if v2 > 5e-3:\n",
    "                relevant.append((k1, k2))\n",
    "relevant = sorted(relevant, key=lambda x: int(x[0].split(\":\")[1]))"
   ]
  },
  {
   "cell_type": "code",
   "execution_count": null,
   "id": "needed-passing",
   "metadata": {},
   "outputs": [],
   "source": [
    "fig, axs = plt.subplots(1, 3, figsize=(12, 5))\n",
    "\n",
    "for b in basis:\n",
    "    if \"pcseg\" in b.name:\n",
    "        i = 1\n",
    "        n = b.name.upper().replace(\"_\", \"-\")\n",
    "    elif \"def2\" in b.name:\n",
    "        i = 2\n",
    "        n = b.name\n",
    "    else:\n",
    "        i = 0\n",
    "        n = b.name\n",
    "    n = n.replace(\"_\", \"-\")\n",
    "    axs[i].plot([bond_orders[b.name][k[0]][k[1]] for k in relevant], \n",
    "                label=n, marker=markers[b.name],\n",
    "                markersize=msize[b.name])\n",
    "    \n",
    "for i in range(3):\n",
    "    axs[i].plot([bond_orders[\"BigDFT\"][k[0]][k[1]] for k in relevant], \n",
    "                label=\"BigDFT\", linestyle=\"--\", color='k', linewidth=2)\n",
    "    \n",
    "for i in range(3):\n",
    "    axs[i].legend(loc=\"lower center\", ncol=2)\n",
    "    axs[i].set_ylim(5e-4, 1)\n",
    "    axs[i].set_xticks(range(len(relevant)))\n",
    "    axs[i].set_xticklabels([\"-\".join(x) for x in relevant], rotation=90)\n",
    "    axs[i].set_yscale(\"log\")\n",
    "    axs[i].tick_params(axis='both', which='major', labelsize=16)\n",
    "\n",
    "axs[0].set_title(\"Minimal\", fontsize=18)\n",
    "axs[1].set_title(\"Jensen\", fontsize=18)\n",
    "axs[2].set_title(\"Karlsruhe\", fontsize=18)\n",
    "axs[0].set_ylabel(\"Fragment Bond Order\", fontsize=18)\n",
    "fig.tight_layout()\n",
    "fig.savefig(\"basis-fbo.png\", dpi=600)"
   ]
  }
 ],
 "metadata": {
  "kernelspec": {
   "display_name": "Python 3 (ipykernel)",
   "language": "python",
   "name": "python3"
  },
  "language_info": {
   "codemirror_mode": {
    "name": "ipython",
    "version": 3
   },
   "file_extension": ".py",
   "mimetype": "text/x-python",
   "name": "python",
   "nbconvert_exporter": "python",
   "pygments_lexer": "ipython3",
   "version": "3.10.8"
  }
 },
 "nbformat": 4,
 "nbformat_minor": 5
}
