{
 "cells": [
  {
   "cell_type": "markdown",
   "id": "f9c4b646",
   "metadata": {},
   "source": [
    "## Exact Exchange Fraction\n",
    "This notebook will check the dependence on the exact fraction of exact change on QM-CR values."
   ]
  },
  {
   "cell_type": "code",
   "execution_count": null,
   "id": "anticipated-guidance",
   "metadata": {},
   "outputs": [],
   "source": [
    "from numpy import linspace\n",
    "from os.path import join\n",
    "geom = \"renumber\"\n",
    "functionals = linspace(0.0, 1.0, 21)\n",
    "bset = \"pcseg-1\""
   ]
  },
  {
   "cell_type": "markdown",
   "id": "14d24a8c",
   "metadata": {},
   "source": [
    "Read in the system."
   ]
  },
  {
   "cell_type": "code",
   "execution_count": null,
   "id": "dangerous-landscape",
   "metadata": {},
   "outputs": [],
   "source": [
    "from pyntchem.io import read_pdb\n",
    "with open(join(\"input\", geom + \".pdb\")) as ifile:\n",
    "    sys = read_pdb(ifile)"
   ]
  },
  {
   "cell_type": "markdown",
   "id": "28ff3f57",
   "metadata": {},
   "source": [
    "Basis set."
   ]
  },
  {
   "cell_type": "code",
   "execution_count": null,
   "id": "comparative-contributor",
   "metadata": {},
   "outputs": [],
   "source": [
    "from pyntchem.basis import BasisSet\n",
    "basis = BasisSet(bset, sys.get_symlookup())"
   ]
  },
  {
   "cell_type": "markdown",
   "id": "c7199ad2",
   "metadata": {},
   "source": [
    "Guess matrix from basis set work."
   ]
  },
  {
   "cell_type": "code",
   "execution_count": null,
   "id": "hired-cache",
   "metadata": {},
   "outputs": [],
   "source": [
    "alp = join(\"work-basis\", basis.name, basis.name + \".DensAlp.mtx\")"
   ]
  },
  {
   "cell_type": "code",
   "execution_count": null,
   "id": "tutorial-storage",
   "metadata": {},
   "outputs": [],
   "source": [
    "from pyntchem.calculator import JobscriptCalculator\n",
    "calc = JobscriptCalculator(computer=\"Spring\", skip=True, verbose=True)\n",
    "args = {\"nodes\": 1, \"tasks_per_node\": 4, \"omp\": 9,  \"queue\": \"winter2\"}"
   ]
  },
  {
   "cell_type": "markdown",
   "id": "04bab2b5",
   "metadata": {},
   "source": [
    "Compute."
   ]
  },
  {
   "cell_type": "code",
   "execution_count": null,
   "id": "another-census",
   "metadata": {},
   "outputs": [],
   "source": [
    "from pyntchem.preprocessing import put_guess_matrix\n",
    "from contextlib import suppress\n",
    "from pyntchem.inputfile import Inputfile\n",
    "from time import sleep\n",
    "\n",
    "for fun in functionals:\n",
    "    inp = Inputfile()\n",
    "    # Setup the custom amount of exact exchange\n",
    "    inp.set_custom_dft({\"pbe\": 1 - fun}, {\"pbe\": 1.0}, fun)\n",
    "\n",
    "    inp.set_dft_prune_grid(50, 194)\n",
    "    inp.set_scf_guess(\"readdens\")\n",
    "    inp[\"scf\"].pulayperiod = 2\n",
    "    inp[\"scf\"].facdamp = 0.95\n",
    "    inp[\"scf\"].writeanal = True\n",
    "    inp[\"scf\"].vshift = 0\n",
    "\n",
    "    inp[\"int2\"].prelinkjthreshold = 1e-8\n",
    "    inp[\"int2\"].prelinkkthreshold = 1e-4\n",
    "    \n",
    "    with suppress(IOError):\n",
    "        put_guess_matrix(join(\"work-frac\"), \n",
    "                         str(fun), dens_alp_file=alp)\n",
    "    \n",
    "    calc.run(sys, inp, basis, name=str(fun), \n",
    "             run_dir=join(\"work-frac\"),  **args)\n",
    "    \n",
    "while not calc.check_results(): sleep(10.0)\n",
    "logfiles = {x: y.log for x, y in calc.calculations.items()}"
   ]
  },
  {
   "cell_type": "markdown",
   "id": "f6b39002",
   "metadata": {},
   "source": [
    "Post Process."
   ]
  },
  {
   "cell_type": "code",
   "execution_count": null,
   "id": "residential-rider",
   "metadata": {},
   "outputs": [],
   "source": [
    "from pyntchem.postprocessing import NTChemTool\n",
    "tool = NTChemTool()\n",
    "\n",
    "purities = {}\n",
    "for f in functionals:\n",
    "    log = logfiles[str(f)]\n",
    "    purities[f] = tool.run_compute_purity(sys, log)"
   ]
  },
  {
   "cell_type": "code",
   "execution_count": null,
   "id": "contrary-sight",
   "metadata": {},
   "outputs": [],
   "source": [
    "bond_orders = {}\n",
    "for f in functionals:\n",
    "    log = logfiles[str(f)]\n",
    "    bond_orders[f] = tool.fragment_bond_order(sys, list(sys), list(sys), log)"
   ]
  },
  {
   "cell_type": "markdown",
   "id": "ac46b8f7",
   "metadata": {},
   "source": [
    "Plot the results."
   ]
  },
  {
   "cell_type": "code",
   "execution_count": null,
   "id": "formed-ballet",
   "metadata": {},
   "outputs": [],
   "source": [
    "from matplotlib import pyplot as plt\n",
    "fig, axs = plt.subplots(1, 1, figsize=(5, 4))\n",
    "\n",
    "order = ['WAT:1', 'WAT:2', 'WAT:3', 'WAT:4', 'WAT:5', 'WAT:6', 'MOL:7', 'MOL:8', 'MOL:9', 'MOL:10']\n",
    "cmap = plt.get_cmap(\"coolwarm\")\n",
    "\n",
    "for f in functionals:\n",
    "    if f == 1.0:\n",
    "        axs.plot([purities[f][k] for k in order], color=cmap(f), label=\"Exact Exchange\")\n",
    "    elif f == 0:\n",
    "        axs.plot([purities[f][k] for k in order], color=cmap(f), label=\"PBE Exchange\")\n",
    "    else:\n",
    "        axs.plot([purities[f][k] for k in order], color=cmap(f))\n",
    "    \n",
    "axs.legend(loc=\"lower left\", ncol=1)\n",
    "axs.set_ylim(-0.06, 0)\n",
    "axs.set_xticks(range(len(order)))\n",
    "axs.set_xticklabels(order, rotation=90)\n",
    "axs.tick_params(axis='both', which='major', labelsize=16)\n",
    "axs.set_ylabel(\"Purity Indicator\", fontsize=18)\n",
    "fig.tight_layout()\n",
    "fig.savefig(\"frac-pi.png\", dpi=600)"
   ]
  },
  {
   "cell_type": "markdown",
   "id": "9ba55c6b",
   "metadata": {},
   "source": [
    "Plot the results for bond order."
   ]
  },
  {
   "cell_type": "code",
   "execution_count": null,
   "id": "powerful-copying",
   "metadata": {},
   "outputs": [],
   "source": [
    "relevant = [('WAT:1', 'MOL:7'), ('WAT:1', 'MOL:8'), \n",
    "            ('WAT:3', 'MOL:8'), ('WAT:5', 'WAT:3'), \n",
    "            ('WAT:5', 'WAT:4'), ('MOL:7', 'MOL:8'), \n",
    "            ('MOL:9', 'WAT:3'), ('MOL:9', 'MOL:8'), \n",
    "            ('MOL:10', 'MOL:9')]"
   ]
  },
  {
   "cell_type": "code",
   "execution_count": null,
   "id": "quantitative-maria",
   "metadata": {},
   "outputs": [],
   "source": [
    "fig, axs = plt.subplots(1, 1, figsize=(5, 5))\n",
    "\n",
    "for f in functionals:\n",
    "    if f == 1.0:\n",
    "        axs.plot([bond_orders[f][k[0]][k[1]] for k in relevant],\n",
    "                  color=cmap(f), label=\"Exact Exchange\")\n",
    "    elif f == 0.0:\n",
    "        axs.plot([bond_orders[f][k[0]][k[1]] for k in relevant],\n",
    "                  color=cmap(f), label=\"PBE Exchange\")\n",
    "    else:\n",
    "        axs.plot([bond_orders[f][k[0]][k[1]] for k in relevant],\n",
    "                  color=cmap(f))\n",
    "\n",
    "axs.legend(loc=\"upper left\", ncol=2)\n",
    "axs.set_xticks(range(len(relevant)))\n",
    "axs.set_xticklabels([\"-\".join(x) for x in relevant], rotation=90)\n",
    "axs.set_ylim(5e-3, 5)\n",
    "axs.set_yscale(\"log\")\n",
    "\n",
    "axs.tick_params(axis='both', which='major', labelsize=16)\n",
    "axs.set_ylabel(\"Fragment Bond Order\", fontsize=18)\n",
    "fig.tight_layout()\n",
    "fig.savefig(\"frac-fbo.png\", dpi=600)"
   ]
  }
 ],
 "metadata": {
  "kernelspec": {
   "display_name": "Python 3 (ipykernel)",
   "language": "python",
   "name": "python3"
  },
  "language_info": {
   "codemirror_mode": {
    "name": "ipython",
    "version": 3
   },
   "file_extension": ".py",
   "mimetype": "text/x-python",
   "name": "python",
   "nbconvert_exporter": "python",
   "pygments_lexer": "ipython3",
   "version": "3.10.8"
  }
 },
 "nbformat": 4,
 "nbformat_minor": 5
}
