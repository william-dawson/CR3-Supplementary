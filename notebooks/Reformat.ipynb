{
 "cells": [
  {
   "cell_type": "markdown",
   "id": "3e7cc3a1",
   "metadata": {},
   "source": [
    "# Linear To Cubic Process\n",
    "This process will compute a set of support functions in the linear scaling mode, and then use those to fit the KS-orbitals of the cubic scaling mode."
   ]
  },
  {
   "cell_type": "code",
   "execution_count": null,
   "id": "aa05ddbd",
   "metadata": {},
   "outputs": [],
   "source": [
    "functionals = [\"PBE\", \"HF\", \"B3LYP\", \"PBE0\"]\n",
    "\n",
    "markers = {}\n",
    "msize = {}\n",
    "markers[\"PBE\"] = \"+\"\n",
    "markers[\"BLYP\"] = \"x\"\n",
    "markers[\"HF\"] = \"d\"\n",
    "markers[\"B3LYP\"] = \"v\"\n",
    "markers[\"PBE0\"] = \".\"\n",
    "\n",
    "msize[\"PBE\"] = 12\n",
    "msize[\"BLYP\"] = 12\n",
    "msize[\"HF\"] = 8\n",
    "msize[\"B3LYP\"] = 8\n",
    "msize[\"PBE0\"] = 12"
   ]
  },
  {
   "cell_type": "markdown",
   "id": "stuffed-helping",
   "metadata": {},
   "source": [
    "Read in the input."
   ]
  },
  {
   "cell_type": "code",
   "execution_count": null,
   "id": "973bd7f8",
   "metadata": {},
   "outputs": [],
   "source": [
    "from BigDFT.IO import read_pdb\n",
    "from os.path import join\n",
    "\n",
    "with open(join(\"input\", \"renumber.pdb\")) as ifile:\n",
    "    sys = read_pdb(ifile)"
   ]
  },
  {
   "cell_type": "markdown",
   "id": "887b43b5",
   "metadata": {},
   "source": [
    "Parameters for two versions of the PBE run."
   ]
  },
  {
   "cell_type": "code",
   "execution_count": null,
   "id": "6a630d78",
   "metadata": {},
   "outputs": [],
   "source": [
    "from BigDFT.Calculators import SystemCalculator\n",
    "code = SystemCalculator(skip=True, verbose=False)"
   ]
  },
  {
   "cell_type": "code",
   "execution_count": null,
   "id": "e05d18d0",
   "metadata": {},
   "outputs": [],
   "source": [
    "from BigDFT.Inputfiles import Inputfile\n",
    "inp = Inputfile()\n",
    "inp.set_xc(\"PBE\")\n",
    "inp.set_hgrid(0.37)\n",
    "inp.update({'output': {'orbitals': 'text'}})\n",
    "inp.set_psp_krack()"
   ]
  },
  {
   "cell_type": "code",
   "execution_count": null,
   "id": "db3a577e",
   "metadata": {},
   "outputs": [],
   "source": [
    "lin_inp = Inputfile()\n",
    "lin_inp.set_xc(\"PBE\")\n",
    "lin_inp.set_hgrid(0.37)\n",
    "lin_inp[\"import\"] = \"linear\"\n",
    "lin_inp[\"lin_general\"] = {'output_wf': 21}\n",
    "lin_inp.set_psp_krack()"
   ]
  },
  {
   "cell_type": "markdown",
   "id": "445fb928",
   "metadata": {},
   "source": [
    "Run."
   ]
  },
  {
   "cell_type": "code",
   "execution_count": null,
   "id": "dc9e1106",
   "metadata": {},
   "outputs": [],
   "source": [
    "log_cubic = code.run(sys=sys, input=inp, \n",
    "                     run_dir=\"work\", name=\"cubic\")"
   ]
  },
  {
   "cell_type": "code",
   "execution_count": null,
   "id": "79a8f76f",
   "metadata": {},
   "outputs": [],
   "source": [
    "log_linear = code.run(sys=sys, input=lin_inp, \n",
    "                      run_dir=\"work\", name=\"linear\")"
   ]
  },
  {
   "cell_type": "markdown",
   "id": "b5775346",
   "metadata": {},
   "source": [
    "## Orbital Processing\n",
    "First we need to convert all of the cubic wavefunctions to cubefiles using BigDFTool."
   ]
  },
  {
   "cell_type": "code",
   "execution_count": null,
   "id": "d575bf54",
   "metadata": {},
   "outputs": [],
   "source": [
    "from CubeFiles import generate_cube"
   ]
  },
  {
   "cell_type": "code",
   "execution_count": null,
   "id": "8afbfb36",
   "metadata": {},
   "outputs": [],
   "source": [
    "for i in range(1, log_cubic.number_of_orbitals + 1):\n",
    "    generate_cube(log_cubic, i, temp_dir=\"temp_cubic\")"
   ]
  },
  {
   "cell_type": "markdown",
   "id": "da121df5",
   "metadata": {},
   "source": [
    "Read them in."
   ]
  },
  {
   "cell_type": "code",
   "execution_count": null,
   "id": "d970dad3",
   "metadata": {},
   "outputs": [],
   "source": [
    "from os.path import join\n",
    "from CubeFiles import CubeFile, cube_name\n",
    "\n",
    "cubic_cubes = {}\n",
    "for i in range(1, log_cubic.number_of_orbitals + 1):\n",
    "    cubic_cubes[i] = CubeFile()\n",
    "    with open(join(\"temp_cubic\", cube_name(i) + \".cube\")) as ifile:\n",
    "        cubic_cubes[i].read(ifile)\n",
    "        \n",
    "linear_cubes = {}\n",
    "for i in range(1, log_linear.log[\"Total No. Support Functions\"] + 1):\n",
    "    linear_cubes[i] = CubeFile()\n",
    "    with open(join(log_linear.srcdir, log_linear.data_directory, \n",
    "                   cube_name(i, wf_type=\"SupFun\") + \".cube\")) as ifile:\n",
    "        linear_cubes[i].read(ifile)"
   ]
  },
  {
   "cell_type": "markdown",
   "id": "f9ad330b",
   "metadata": {},
   "source": [
    "Compute the overlap between the two representations."
   ]
  },
  {
   "cell_type": "code",
   "execution_count": null,
   "id": "43fe24df",
   "metadata": {},
   "outputs": [],
   "source": [
    "from numpy import zeros\n",
    "ovlp = zeros((log_cubic.number_of_orbitals, \n",
    "              log_linear.log[\"Total No. Support Functions\"]))\n",
    "for i in range(0, ovlp.shape[0]):\n",
    "    for j in range(0, ovlp.shape[1]):\n",
    "        ovlp[i, j] = cubic_cubes[i+1].dot(linear_cubes[j+1])"
   ]
  },
  {
   "cell_type": "markdown",
   "id": "846095af",
   "metadata": {},
   "source": [
    "Compute the overlap between just the linear."
   ]
  },
  {
   "cell_type": "code",
   "execution_count": null,
   "id": "823ace18",
   "metadata": {},
   "outputs": [],
   "source": [
    "S = zeros((log_linear.log[\"Total No. Support Functions\"],\n",
    "           log_linear.log[\"Total No. Support Functions\"]))\n",
    "for i in range(0, S.shape[0]):\n",
    "    for j in range(0, S.shape[1]):\n",
    "        S[i, j] = linear_cubes[i+1].dot(linear_cubes[j+1])"
   ]
  },
  {
   "cell_type": "markdown",
   "id": "eb24cf57",
   "metadata": {},
   "source": [
    "We can compare this overlap matrix to the one computed in the wavelet basis by BigDFT as a sanity check."
   ]
  },
  {
   "cell_type": "code",
   "execution_count": null,
   "id": "05c8182c",
   "metadata": {},
   "outputs": [],
   "source": [
    "from scipy.io import mmread\n",
    "Sanaly = mmread(join(log_linear.srcdir, log_linear.data_directory, \"overlap_sparse.mtx\"))"
   ]
  },
  {
   "cell_type": "code",
   "execution_count": null,
   "id": "1d360f35",
   "metadata": {},
   "outputs": [],
   "source": [
    "from numpy.linalg import norm\n",
    "print(norm(S - Sanaly.todense()))"
   ]
  },
  {
   "cell_type": "markdown",
   "id": "1ba11676",
   "metadata": {},
   "source": [
    "Compute the coefficients and density matrix."
   ]
  },
  {
   "cell_type": "code",
   "execution_count": null,
   "id": "824c89f5",
   "metadata": {},
   "outputs": [],
   "source": [
    "from scipy.linalg import inv\n",
    "Sinv = inv(S)"
   ]
  },
  {
   "cell_type": "code",
   "execution_count": null,
   "id": "81b356db",
   "metadata": {},
   "outputs": [],
   "source": [
    "from scipy.sparse import csr_matrix\n",
    "K = {}\n",
    "coef = ovlp.dot(Sinv).T\n",
    "K[\"PBE\"] = csr_matrix(2*coef.dot(coef.T))"
   ]
  },
  {
   "cell_type": "code",
   "execution_count": null,
   "id": "8c520d08",
   "metadata": {},
   "outputs": [],
   "source": [
    "from numpy import trace\n",
    "print(trace(K[\"PBE\"].dot(Sanaly.todense())))"
   ]
  },
  {
   "cell_type": "markdown",
   "id": "ea557b2a",
   "metadata": {},
   "source": [
    "## Energy Comparison\n",
    "Compute the energy difference between the two density matrices."
   ]
  },
  {
   "cell_type": "code",
   "execution_count": null,
   "id": "c3c334ad",
   "metadata": {},
   "outputs": [],
   "source": [
    "from scipy.io import mmread\n",
    "H = mmread(join(log_linear.srcdir, log_linear.data_directory, \"hamiltonian_sparse.mtx\"))\n",
    "Kpbe_orig = mmread(join(log_linear.srcdir, log_linear.data_directory, \"density_kernel_sparse.mtx\"))"
   ]
  },
  {
   "cell_type": "code",
   "execution_count": null,
   "id": "4e7465d0",
   "metadata": {},
   "outputs": [],
   "source": [
    "from numpy import trace\n",
    "from numpy.linalg import norm\n",
    "err =  trace(H.dot(K[\"PBE\"].todense())) - trace(H.dot(Kpbe_orig).todense())\n",
    "print(\"Absolute\", err)\n",
    "print(\"Relative\", 100*err/trace(H.dot(Kpbe_orig).todense()))"
   ]
  },
  {
   "cell_type": "markdown",
   "id": "e3001bc4",
   "metadata": {},
   "source": [
    "## PBE0 Calculation\n",
    "Now perform a PBE0 calculation."
   ]
  },
  {
   "cell_type": "code",
   "execution_count": null,
   "id": "966dd915",
   "metadata": {},
   "outputs": [],
   "source": [
    "inp = Inputfile()\n",
    "inp.set_xc(-406)\n",
    "inp.set_hgrid(0.37)\n",
    "inp.update({'output': {'orbitals': 'text'}})\n",
    "inp.set_psp_krack()"
   ]
  },
  {
   "cell_type": "code",
   "execution_count": null,
   "id": "93f54def",
   "metadata": {},
   "outputs": [],
   "source": [
    "log_pbe0 = code.run(sys=sys, input=inp, \n",
    "                    run_dir=\"work\", name=\"pbe0\")"
   ]
  },
  {
   "cell_type": "markdown",
   "id": "48c64bce",
   "metadata": {},
   "source": [
    "Read orbitals as cube files."
   ]
  },
  {
   "cell_type": "code",
   "execution_count": null,
   "id": "5bd44bee",
   "metadata": {},
   "outputs": [],
   "source": [
    "for i in range(1, log_pbe0.number_of_orbitals + 1):\n",
    "    print(generate_cube(log_pbe0, i, temp_dir=\"temp_pbe0\"))\n",
    "pbe0_cubes = {}\n",
    "for i in range(1, log_pbe0.number_of_orbitals + 1):\n",
    "    pbe0_cubes[i] = CubeFile()\n",
    "    with open(join(\"temp_pbe0\", cube_name(i) + \".cube\")) as ifile:\n",
    "        pbe0_cubes[i].read(ifile)"
   ]
  },
  {
   "cell_type": "markdown",
   "id": "16ab1c0d",
   "metadata": {},
   "source": [
    "Compute the density."
   ]
  },
  {
   "cell_type": "code",
   "execution_count": null,
   "id": "bccad94f",
   "metadata": {},
   "outputs": [],
   "source": [
    "ovlp = zeros((log_pbe0.number_of_orbitals, \n",
    "              log_linear.log[\"Total No. Support Functions\"]))\n",
    "for i in range(0, ovlp.shape[0]):\n",
    "    for j in range(0, ovlp.shape[1]):\n",
    "        ovlp[i, j] = pbe0_cubes[i+1].dot(linear_cubes[j+1])"
   ]
  },
  {
   "cell_type": "code",
   "execution_count": null,
   "id": "ff7f424c",
   "metadata": {},
   "outputs": [],
   "source": [
    "coef = ovlp.dot(Sinv).T\n",
    "K[\"PBE0\"] = csr_matrix(2*coef.dot(coef.T))"
   ]
  },
  {
   "cell_type": "markdown",
   "id": "6a64b051",
   "metadata": {},
   "source": [
    "## Hartree-Fock Calculation"
   ]
  },
  {
   "cell_type": "code",
   "execution_count": null,
   "id": "278f264f",
   "metadata": {},
   "outputs": [],
   "source": [
    "inp = Inputfile()\n",
    "inp.set_xc(\"HF\")\n",
    "inp.set_hgrid(0.37)\n",
    "inp.update({'output': {'orbitals': 'text'}})\n",
    "inp.set_psp_krack()"
   ]
  },
  {
   "cell_type": "code",
   "execution_count": null,
   "id": "d2d6efe8",
   "metadata": {},
   "outputs": [],
   "source": [
    "log_hf = code.run(sys=sys, input=inp, \n",
    "                  run_dir=\"work\", name=\"HF\")"
   ]
  },
  {
   "cell_type": "code",
   "execution_count": null,
   "id": "f8e6dc52",
   "metadata": {},
   "outputs": [],
   "source": [
    "for i in range(1, log_hf.number_of_orbitals + 1):\n",
    "    print(generate_cube(log_hf, i, temp_dir=\"temp_hf\"))\n",
    "hf_cubes = {}\n",
    "for i in range(1, log_hf.number_of_orbitals + 1):\n",
    "    hf_cubes[i] = CubeFile()\n",
    "    with open(join(\"temp_hf\", cube_name(i) + \".cube\")) as ifile:\n",
    "        hf_cubes[i].read(ifile)"
   ]
  },
  {
   "cell_type": "code",
   "execution_count": null,
   "id": "0c77f738",
   "metadata": {},
   "outputs": [],
   "source": [
    "ovlp = zeros((log_hf.number_of_orbitals, \n",
    "              log_linear.log[\"Total No. Support Functions\"]))\n",
    "for i in range(0, ovlp.shape[0]):\n",
    "    for j in range(0, ovlp.shape[1]):\n",
    "        ovlp[i, j] = hf_cubes[i+1].dot(linear_cubes[j+1])\n",
    "coef = ovlp.dot(Sinv).T\n",
    "K[\"HF\"] = csr_matrix(2*coef.dot(coef.T))"
   ]
  },
  {
   "cell_type": "markdown",
   "id": "8acb2176",
   "metadata": {},
   "source": [
    "## B3LYP Calculation"
   ]
  },
  {
   "cell_type": "code",
   "execution_count": null,
   "id": "bf8d0477",
   "metadata": {},
   "outputs": [],
   "source": [
    "inp = Inputfile()\n",
    "inp.set_xc(\"-475\")\n",
    "inp.set_hgrid(0.37)\n",
    "inp.update({'output': {'orbitals': 'text'}})\n",
    "inp.set_psp_krack()"
   ]
  },
  {
   "cell_type": "code",
   "execution_count": null,
   "id": "87854b7f",
   "metadata": {},
   "outputs": [],
   "source": [
    "log_b3lyp = code.run(sys=sys, input=inp, \n",
    "                     run_dir=\"work\", name=\"B3LYP\")"
   ]
  },
  {
   "cell_type": "code",
   "execution_count": null,
   "id": "95aa26de",
   "metadata": {},
   "outputs": [],
   "source": [
    "for i in range(1, log_b3lyp.number_of_orbitals + 1):\n",
    "    print(generate_cube(log_b3lyp, i, temp_dir=\"temp_b3lyp\"))\n",
    "b3lyp_cubes = {}\n",
    "for i in range(1, log_b3lyp.number_of_orbitals + 1):\n",
    "    b3lyp_cubes[i] = CubeFile()\n",
    "    with open(join(\"temp_b3lyp\", cube_name(i) + \".cube\")) as ifile:\n",
    "        b3lyp_cubes[i].read(ifile)"
   ]
  },
  {
   "cell_type": "code",
   "execution_count": null,
   "id": "3a54cf4e",
   "metadata": {},
   "outputs": [],
   "source": [
    "ovlp = zeros((log_b3lyp.number_of_orbitals, \n",
    "              log_linear.log[\"Total No. Support Functions\"]))\n",
    "for i in range(0, ovlp.shape[0]):\n",
    "    for j in range(0, ovlp.shape[1]):\n",
    "        ovlp[i, j] = b3lyp_cubes[i+1].dot(linear_cubes[j+1])\n",
    "coef = ovlp.dot(Sinv).T\n",
    "K[\"B3LYP\"] = csr_matrix(2*coef.dot(coef.T))"
   ]
  },
  {
   "cell_type": "markdown",
   "id": "01974c19",
   "metadata": {},
   "source": [
    "## QM-CR Quantities\n",
    "Compute some QM-CR quantities."
   ]
  },
  {
   "cell_type": "code",
   "execution_count": null,
   "id": "fd4c63c4",
   "metadata": {},
   "outputs": [],
   "source": [
    "from BigDFT.PostProcessing import BigDFTool\n",
    "tool = BigDFTool()"
   ]
  },
  {
   "cell_type": "code",
   "execution_count": null,
   "id": "bf5a7b48",
   "metadata": {},
   "outputs": [],
   "source": [
    "pi_orig = tool.run_compute_purity(sys, log_linear, kxs=Kpbe_orig.dot(Sanaly))\n",
    "\n",
    "pi = {}\n",
    "for f in functionals:\n",
    "    pi[f] = tool.run_compute_purity(sys, log_linear, kxs=K[f].dot(Sanaly))"
   ]
  },
  {
   "cell_type": "code",
   "execution_count": null,
   "id": "f4605bbc",
   "metadata": {},
   "outputs": [],
   "source": [
    "fbo_orig = tool.fragment_bond_order(sys, sys, sys, log_linear, kxs=Kpbe_orig.dot(Sanaly))\n",
    "\n",
    "fbo = {}\n",
    "for f in functionals:\n",
    "    fbo[f] = tool.fragment_bond_order(sys, sys, sys, log_linear, kxs=K[f].dot(Sanaly))"
   ]
  },
  {
   "cell_type": "code",
   "execution_count": null,
   "id": "1946827d",
   "metadata": {},
   "outputs": [],
   "source": [
    "order = sorted(sys, key=lambda x: int(x.split(\":\")[1]))\n",
    "relevant = []\n",
    "\n",
    "for k1, v1 in fbo_orig.items():\n",
    "    for k2, v2 in v1.items():\n",
    "        if k1 == k2:\n",
    "            continue\n",
    "        if (k2, k1) in relevant:\n",
    "            continue\n",
    "        if \"MOL\" in k1:\n",
    "            if v2 > 1e-2:\n",
    "                relevant.append((k1, k2))\n",
    "        else:\n",
    "            if v2 > 5e-3:\n",
    "                relevant.append((k1, k2))\n",
    "relevant = sorted(relevant, key=lambda x: int(x[0].split(\":\")[1]))"
   ]
  },
  {
   "cell_type": "markdown",
   "id": "db14f89b",
   "metadata": {},
   "source": [
    "Plot."
   ]
  },
  {
   "cell_type": "code",
   "execution_count": null,
   "id": "17e6c18a",
   "metadata": {},
   "outputs": [],
   "source": [
    "from matplotlib import pyplot as plt\n",
    "fig, axs = plt.subplots(1, 2, figsize=(8, 5))\n",
    "\n",
    "axs[0].plot([abs(pi_orig[x]) for x in sys], \n",
    "            linestyle='--', linewidth=2, color='k')\n",
    "for f in functionals:\n",
    "    axs[0].plot([(pi[f][x]) for x in sys], label=f,\n",
    "                marker=markers[f], markersize=msize[f])\n",
    "axs[0].set_xticks(range(len(order)))\n",
    "axs[0].set_xticklabels(order, rotation=90)\n",
    "axs[0].set_ylim(-1e-3, -5e-2)\n",
    "axs[0].tick_params(axis='both', which='major', labelsize=16)\n",
    "axs[0].set_ylabel(\"Purity Indicator\", fontsize=18)\n",
    "\n",
    "axs[1].plot([fbo_orig[x[0]][x[1]] for x in relevant], label=\"PBE-Linear\", \n",
    "            linestyle='--', linewidth=2, color='k')\n",
    "for f in functionals:\n",
    "    axs[1].plot([fbo[f][x[0]][x[1]] for x in relevant], label=f, \n",
    "                marker=markers[f], markersize=msize[f])\n",
    "axs[1].legend(loc=\"lower center\", ncol=2, prop={'size': 11})\n",
    "axs[1].set_ylim(5e-3, 1e-1)\n",
    "axs[1].set_xticks(range(len(relevant)))\n",
    "axs[1].set_xticklabels([\"-\".join(x) for x in relevant], rotation=90)\n",
    "axs[1].set_yscale(\"log\")\n",
    "axs[1].tick_params(axis='both', which='major', labelsize=16)\n",
    "\n",
    "axs[1].legend()\n",
    "\n",
    "fig.tight_layout()"
   ]
  },
  {
   "cell_type": "code",
   "execution_count": null,
   "id": "1e42ff33",
   "metadata": {},
   "outputs": [],
   "source": []
  }
 ],
 "metadata": {
  "kernelspec": {
   "display_name": "Python 3 (ipykernel)",
   "language": "python",
   "name": "python3"
  },
  "language_info": {
   "codemirror_mode": {
    "name": "ipython",
    "version": 3
   },
   "file_extension": ".py",
   "mimetype": "text/x-python",
   "name": "python",
   "nbconvert_exporter": "python",
   "pygments_lexer": "ipython3",
   "version": "3.7.7"
  }
 },
 "nbformat": 4,
 "nbformat_minor": 5
}
