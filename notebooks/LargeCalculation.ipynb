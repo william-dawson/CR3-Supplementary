{
 "cells": [
  {
   "cell_type": "markdown",
   "id": "2f75b1cd",
   "metadata": {},
   "source": [
    "# Benchmarking Workflow\n",
    "This workflow will perform a calculation at the BHandHLYP/PCSEG-1/high level of theory. It will start with a fragment calculation using HF/PCSEG-0/LOW. The fragments will then be joined as a guess for a full calculation at HF/PCSEG-0/LOW. Then BHandHLYP/PCSEG-0/low will be performed. The density matrix will be projected for a BHandHYLP/PCSEG-1/LOW, and then the calculation finishes at BHandHYLP/PCSEG-1/HIGH."
   ]
  },
  {
   "cell_type": "code",
   "execution_count": null,
   "id": "ba4f3a3e",
   "metadata": {},
   "outputs": [],
   "source": [
    "from os.path import join\n",
    "geom = \"1crn-step-99-conn\"\n",
    "bnames = [\"pcseg-0\", \"pcseg-1\"]\n",
    "workdir = \"scratch_clean\"\n",
    "dry_run = \"dry_run_clean\"\n",
    "cache_dir = \"cache\""
   ]
  },
  {
   "cell_type": "code",
   "execution_count": null,
   "id": "daa76227",
   "metadata": {},
   "outputs": [],
   "source": [
    "from os.path import exists\n",
    "from os import mkdir\n",
    "if not exists(cache_dir):\n",
    "    mkdir(cache_dir)\n",
    "if not exists(dry_run):\n",
    "    mkdir(dry_run)"
   ]
  },
  {
   "cell_type": "markdown",
   "id": "3935b65b",
   "metadata": {},
   "source": [
    "Read in the input file."
   ]
  },
  {
   "cell_type": "code",
   "execution_count": null,
   "id": "66ed732e",
   "metadata": {},
   "outputs": [],
   "source": [
    "from pyntchem.io import read_pdb\n",
    "with open(join(\"input\", geom + \".pdb\")) as ifile:\n",
    "    sys = read_pdb(ifile)"
   ]
  },
  {
   "cell_type": "markdown",
   "id": "popular-pharmacology",
   "metadata": {},
   "source": [
    "Remove ionic bonds in the pdb file."
   ]
  },
  {
   "cell_type": "code",
   "execution_count": null,
   "id": "subsequent-crisis",
   "metadata": {},
   "outputs": [],
   "source": [
    "for fragid in sys:\n",
    "    if \"NA\" in fragid or \"CL\" in fragid:\n",
    "        sys.conmat[fragid][0] = {}"
   ]
  },
  {
   "cell_type": "markdown",
   "id": "c5436b9f",
   "metadata": {},
   "source": [
    "Calculators."
   ]
  },
  {
   "cell_type": "code",
   "execution_count": null,
   "id": "f3e27648",
   "metadata": {},
   "outputs": [],
   "source": [
    "from pyntchem.calculator import JobscriptCalculator\n",
    "from socket import gethostname\n",
    "calc = JobscriptCalculator(computer=\"Fugaku\", skip=True, verbose=True)\n",
    "# arguments redacted because they contain private keys\n",
    "calc_args_small = {}\n",
    "calc_args_medium = {}\n",
    "calc_args_large = {}"
   ]
  },
  {
   "cell_type": "markdown",
   "id": "7605b6a5",
   "metadata": {},
   "source": [
    "Input file setup."
   ]
  },
  {
   "cell_type": "code",
   "execution_count": null,
   "id": "9bfa6537",
   "metadata": {},
   "outputs": [],
   "source": [
    "def general_setup(inp, accuracy=\"low\", shift=False, hf=False):\n",
    "    # Functional\n",
    "    if hf:\n",
    "        inp.set_basic_rhf()\n",
    "    else:\n",
    "        # BHandHLYP\n",
    "        inp.set_custom_dft({\"b88\": 0.5}, {\"lyp\": 1.0}, 0.5)\n",
    "        if accuracy == \"low\":  # (SG1)\n",
    "            inp.set_dft_prune_grid(50, 194)\n",
    "        else:  # (SG2)\n",
    "            inp.set_dft_prune_grid(75, 302)\n",
    "\n",
    "    # Convergence help\n",
    "    inp[\"scf\"].maxdiis = 10\n",
    "    inp[\"scf\"].onbasdiis = True\n",
    "\n",
    "    # ETC\n",
    "    inp[\"scf\"].iprint = 3\n",
    "\n",
    "    # Performance parameters\n",
    "    inp[\"int2\"].procslices = 8\n",
    "    if \"dft\" in inp:\n",
    "        inp[\"dft\"].procslices = 16\n",
    "    inp.set_linear_scaling()\n",
    "    inp[\"scf\"].findiag = False\n",
    "\n",
    "    # Solver Parameters\n",
    "    inp[\"ntpoly\"].thresholdorth = 1e-10\n",
    "    inp[\"ntpoly\"].convergencethresholdorth = 5e-7\n",
    "    inp[\"ntpoly\"].thresholdpdm = 1e-8\n",
    "    inp[\"ntpoly\"].convergencethresholdpdm = 1e-8\n",
    "    inp[\"ntpoly\"].orthtype = \"eig\"\n",
    "    inp[\"ntpoly\"].pdmtype = \"eig\"\n",
    "    \n",
    "    # Integral Parameters\n",
    "    if accuracy == \"low\":\n",
    "        inp[\"int2\"].prelinkjthreshold = 1e-7\n",
    "        inp[\"int2\"].prelinkkthreshold = 1e-4\n",
    "        inp.set_scf_convergence(1e-4, 5e-3)\n",
    "        inp[\"int2\"].thrpre = 1e-9\n",
    "    elif accuracy == \"high\":\n",
    "        inp[\"int2\"].prelinkjthreshold = 1e-8\n",
    "        inp[\"int2\"].prelinkkthreshold = 1e-5\n",
    "        inp.set_scf_convergence(1e-5, 1e-4)\n",
    "    \n",
    "    # Shift\n",
    "    if shift:\n",
    "        inp[\"scf\"].vshift = 0.5\n",
    "        inp[\"scf\"].finshift = False\n",
    "    else:\n",
    "        inp[\"scf\"].vshift = 0.0"
   ]
  },
  {
   "cell_type": "markdown",
   "id": "99ef73d5",
   "metadata": {},
   "source": [
    "## System Fragments\n",
    "For the systems containing water molecules, we want to join them into larger clusters to reduce the number of fragment jobs."
   ]
  },
  {
   "cell_type": "code",
   "execution_count": null,
   "id": "05dcd8dd",
   "metadata": {},
   "outputs": [],
   "source": [
    "def cluster_molecules(sys, k):\n",
    "    from scipy.cluster.vq import kmeans2\n",
    "    def centroid(self):\n",
    "        \"\"\"\n",
    "        The center of a fragment.\n",
    "        \"\"\"\n",
    "        from numpy import mean, ravel\n",
    "        pos = [at.get_position() for at in self]\n",
    "        return ravel(mean(pos, axis=0))\n",
    "\n",
    "    centroids = [centroid(v) for v in sys.values()]\n",
    "    flist = list(sys)\n",
    "    \n",
    "    _, label = kmeans2(centroids, k)\n",
    "    mapping = {flist[i]: \"CLU:\" + str(j) for i,j in enumerate(label)}\n",
    "    return mapping"
   ]
  },
  {
   "cell_type": "code",
   "execution_count": null,
   "id": "13820125",
   "metadata": {},
   "outputs": [],
   "source": [
    "from pyntchem.systems import System, copy_bonding_information\n",
    "from pyntchem.fragments import Fragment\n",
    "from pickle import load, dump\n",
    "\n",
    "clustered = System()\n",
    "watersys = System()\n",
    "for k, v in sys.items():\n",
    "    if \"HOH\" in k:\n",
    "        watersys[k] = v\n",
    "    else:\n",
    "        clustered[k] = v\n",
    "        \n",
    "if len(list(watersys)) > 0:\n",
    "    pname = join(cache_dir, \"mapping_\" + geom + \".pickle\")\n",
    "    try:\n",
    "        with open(pname, \"rb\") as ifile:\n",
    "            mapping = load(ifile)\n",
    "    except Exception as e:\n",
    "        print(e)\n",
    "        mapping = cluster_molecules(watersys, int(len(list(watersys))/10))\n",
    "        with open(pname, \"wb\") as ofile:\n",
    "            dump(mapping, ofile)\n",
    "\n",
    "    for k, v in mapping.items():\n",
    "        if v not in clustered:\n",
    "            clustered[v] = Fragment()\n",
    "        clustered[v] += sys[k]\n",
    "    copy_bonding_information(sys, clustered)\n",
    "else:\n",
    "    clustered = sys"
   ]
  },
  {
   "cell_type": "markdown",
   "id": "900fadfe",
   "metadata": {},
   "source": [
    "Created the shuffled system for load balancing."
   ]
  },
  {
   "cell_type": "code",
   "execution_count": null,
   "id": "b56d7a4a",
   "metadata": {},
   "outputs": [],
   "source": [
    "def get_shuffled_system(sys):\n",
    "    from pyntchem.systems import System\n",
    "    from pyntchem.fragments import Fragment\n",
    "    from random import sample\n",
    "\n",
    "    # Pack into a list of atoms\n",
    "    temp = System()\n",
    "    i = 0\n",
    "    for frag in sys.values():\n",
    "        for at in frag:\n",
    "            temp[\"FRA:\" + str(i)] = Fragment([at])\n",
    "            i += 1\n",
    "\n",
    "    # Shuffle\n",
    "    sys2 = System()\n",
    "    for i, fragid in enumerate(sample(list(temp), len(list(temp)))):\n",
    "        sys2[\"FRA:\" + str(i)] = temp[fragid]\n",
    "    \n",
    "    return sys2"
   ]
  },
  {
   "cell_type": "code",
   "execution_count": null,
   "id": "c9091e8d",
   "metadata": {},
   "outputs": [],
   "source": [
    "pname = join(cache_dir, \"shuffle_\" + geom + \".pickle\")\n",
    "try:\n",
    "    with open(pname, \"rb\") as ifile:\n",
    "        shuffle_sys = load(ifile)\n",
    "except Exception as e:\n",
    "    print(e)\n",
    "    shuffle_sys = get_shuffled_system(clustered)\n",
    "    with open(pname, \"wb\") as ofile:\n",
    "        dump(shuffle_sys, ofile)"
   ]
  },
  {
   "cell_type": "markdown",
   "id": "5e37100c",
   "metadata": {},
   "source": [
    "Compute the charges."
   ]
  },
  {
   "cell_type": "code",
   "execution_count": null,
   "id": "b26b8506",
   "metadata": {},
   "outputs": [],
   "source": [
    "from pyntchem.preprocessing import guess_fragment_charges\n",
    "amino_acids = [\"ARG\", \"HIS\", \"HIP\", \"LYS\", \"ASP\", \"GLU\", \n",
    "               \"SER\", \"THR\", \"ASN\", \"GLN\", \"CYS\", \"SEC\",\n",
    "               \"GLY\", \"PRO\", \"ALA\", \"VAL\", \"ILE\", \"LEU\",\n",
    "               \"MET\", \"PHE\", \"TYR\", \"TRP\"]\n",
    "biosys = System()\n",
    "for fragid, frag in clustered.items():\n",
    "    if fragid.split(\":\")[0] in amino_acids:\n",
    "        biosys[fragid] = frag\n",
    "\n",
    "if len(list(biosys)) > 0:\n",
    "    charges = guess_fragment_charges(biosys)\n",
    "else:\n",
    "    charges = {}\n",
    "for k, v in clustered.items():\n",
    "    if \"CLU:\" in k:\n",
    "        continue\n",
    "    if \"CL\" in k:\n",
    "        charges[k] = -1\n",
    "    elif \"NA\" in k:\n",
    "        charges[k] = +1"
   ]
  },
  {
   "cell_type": "markdown",
   "id": "99b6417c",
   "metadata": {},
   "source": [
    "## Fragment Calculations\n",
    "Now we can compute the fragments. Get the basis sets."
   ]
  },
  {
   "cell_type": "code",
   "execution_count": null,
   "id": "2f93fe05",
   "metadata": {},
   "outputs": [],
   "source": [
    "from pyntchem.basis import BasisSet, symlookup\n",
    "from pickle import load, dump\n",
    "\n",
    "pname = join(cache_dir, geom + \"-basis2.pickle\")\n",
    "try:\n",
    "    with open(pname, \"rb\") as ifile:\n",
    "        basis = load(ifile)\n",
    "except Exception as e:\n",
    "    symlist = set([x.sym for frag in sys.values() for x in frag])\n",
    "    basis = {}\n",
    "    for b in bnames:\n",
    "        basis[b] = BasisSet(b, {x: symlookup[x] for x in symlist})\n",
    "        \n",
    "    with open(pname, \"wb\") as ofile:\n",
    "        dump(basis, ofile)"
   ]
  },
  {
   "cell_type": "markdown",
   "id": "eba98eb3",
   "metadata": {},
   "source": [
    "Run."
   ]
  },
  {
   "cell_type": "code",
   "execution_count": null,
   "id": "ec1b35f4",
   "metadata": {},
   "outputs": [],
   "source": [
    "from pyntchem.inputfile import Inputfile\n",
    "inp = Inputfile()\n",
    "general_setup(inp, accuracy=\"low\", shift=True, hf=True)\n",
    "inp.set_scf_guess(\"diagonal\")"
   ]
  },
  {
   "cell_type": "code",
   "execution_count": null,
   "id": "cf91eed4",
   "metadata": {},
   "outputs": [],
   "source": [
    "if sys.conmat is None:\n",
    "    capping = None\n",
    "else:\n",
    "    capping = \"hydrogen\""
   ]
  },
  {
   "cell_type": "code",
   "execution_count": null,
   "id": "b36adea5",
   "metadata": {
    "scrolled": true
   },
   "outputs": [],
   "source": [
    "from pyntchem.preprocessing import create_fragment_guess\n",
    "from pyntchem.postprocessing import NTChemTool\n",
    "from pyntchem.preprocessing import put_guess_matrix\n",
    "from contextlib import suppress\n",
    "\n",
    "tool = NTChemTool()\n",
    "\n",
    "dens, _ = create_fragment_guess(clustered, inp, basis[bnames[0]],\n",
    "                                calc, tool, join(workdir, geom, \"guess\"),\n",
    "                                capping=capping, charges=charges, \n",
    "                                shuffle_sys=shuffle_sys, **calc_args_small)"
   ]
  },
  {
   "cell_type": "code",
   "execution_count": null,
   "id": "cde7facd",
   "metadata": {},
   "outputs": [],
   "source": [
    "# Put guess matrix in the actual calculation directory\n",
    "with suppress(OSError):\n",
    "    put_guess_matrix(join(workdir, geom), basis[bnames[0]].name + \"_hf\", dens_alp=dens)\n",
    "    \n",
    "# Put guess matrix in the dry run directory\n",
    "with suppress(OSError):\n",
    "    dname = join(dry_run, geom)\n",
    "    if not exists(dname):\n",
    "        mkdir(dname)\n",
    "    dname = join(dry_run, geom, basis[bnames[0]].name + \"_hf\")\n",
    "    if not exists(dname):\n",
    "        mkdir(dname)\n",
    "    put_guess_matrix(join(dry_run, geom), basis[bnames[0]].name + \"_hf\", dens_alp=dens)"
   ]
  },
  {
   "cell_type": "markdown",
   "id": "365e8411",
   "metadata": {},
   "source": [
    "## Full calculations\n",
    "Now we are ready to run on the full system."
   ]
  },
  {
   "cell_type": "code",
   "execution_count": null,
   "id": "1770ecc3",
   "metadata": {},
   "outputs": [],
   "source": [
    "inp = Inputfile()\n",
    "general_setup(inp, accuracy=\"low\", shift=True,  hf=True)\n",
    "inp.set_scf_guess(\"readdens\")\n",
    "inp[\"scf\"].icharg = sum(charges.values())"
   ]
  },
  {
   "cell_type": "code",
   "execution_count": null,
   "id": "af0cfcb6",
   "metadata": {
    "scrolled": true
   },
   "outputs": [],
   "source": [
    "from shutil import copy2\n",
    "calc.run(shuffle_sys, inp, basis[bnames[0]], name=basis[bnames[0]].name + \"_hf\", \n",
    "         run_dir=join(workdir, geom),  **calc_args_medium)\n",
    "copy2(join(workdir, geom, basis[bnames[0]].name + \"_hf\", basis[bnames[0]].name + \"_hf.Inp\"),\n",
    "      join(dry_run, geom, basis[bnames[0]].name + \"_hf\", basis[bnames[0]].name + \"_hf.Inp\"))"
   ]
  },
  {
   "cell_type": "code",
   "execution_count": null,
   "id": "c2aa2a53",
   "metadata": {},
   "outputs": [],
   "source": [
    "from time import sleep\n",
    "while not calc.check_results(): sleep(10.0)\n",
    "logfiles = {x: y.log for x, y in calc.calculations.items()}"
   ]
  },
  {
   "cell_type": "markdown",
   "id": "isolated-nickel",
   "metadata": {},
   "source": [
    "Activate DFT."
   ]
  },
  {
   "cell_type": "code",
   "execution_count": null,
   "id": "occasional-bonus",
   "metadata": {},
   "outputs": [],
   "source": [
    "guess = logfiles[basis[bnames[0]].name + \"_hf\"].densalp\n",
    "with suppress(OSError):\n",
    "    put_guess_matrix(join(workdir, geom), basis[bnames[0]].name, dens_alp_file=guess)\n",
    "with suppress(OSError):\n",
    "    put_guess_matrix(join(dry_run, geom), basis[bnames[0]].name, dens_alp_file=guess)"
   ]
  },
  {
   "cell_type": "code",
   "execution_count": null,
   "id": "integrated-knight",
   "metadata": {},
   "outputs": [],
   "source": [
    "inp = Inputfile()\n",
    "general_setup(inp, accuracy=\"low\", shift=True,  hf=False)\n",
    "inp.set_scf_guess(\"readdens\")\n",
    "inp[\"scf\"].icharg = sum(charges.values())"
   ]
  },
  {
   "cell_type": "code",
   "execution_count": null,
   "id": "changed-raise",
   "metadata": {},
   "outputs": [],
   "source": [
    "calc.run(shuffle_sys, inp, basis[bnames[0]], name=basis[bnames[0]].name, \n",
    "         run_dir=join(workdir, geom),  **calc_args_medium)\n",
    "copy2(join(workdir, geom, basis[bnames[0]].name, basis[bnames[0]].name + \".Inp\"),\n",
    "      join(dry_run, geom, basis[bnames[0]].name, basis[bnames[0]].name + \".Inp\"))"
   ]
  },
  {
   "cell_type": "code",
   "execution_count": null,
   "id": "engaging-quick",
   "metadata": {},
   "outputs": [],
   "source": [
    "while not calc.check_results(): sleep(10.0)\n",
    "logfiles = {x: y.log for x, y in calc.calculations.items()}"
   ]
  },
  {
   "cell_type": "markdown",
   "id": "efficient-redhead",
   "metadata": {},
   "source": [
    "Project up to a larger basis set."
   ]
  },
  {
   "cell_type": "code",
   "execution_count": null,
   "id": "optimum-launch",
   "metadata": {},
   "outputs": [],
   "source": [
    "guess = logfiles[basis[bnames[0]].name].densalp\n",
    "with suppress(OSError):\n",
    "    put_guess_matrix(join(workdir, geom), basis[bnames[1]].name, dens_alp_file=guess)\n",
    "with suppress(OSError):\n",
    "    put_guess_matrix(join(dry_run, geom), basis[bnames[1]].name, dens_alp_file=guess)"
   ]
  },
  {
   "cell_type": "code",
   "execution_count": null,
   "id": "brown-novelty",
   "metadata": {},
   "outputs": [],
   "source": [
    "inp = Inputfile()\n",
    "general_setup(inp, accuracy=\"low\", shift=True, hf=False)\n",
    "inp.set_scf_guess(\"readdens\")\n",
    "inp.set_project()\n",
    "inp[\"projdens\"].iprint = 3\n",
    "inp[\"scf\"].icharg = sum(charges.values())"
   ]
  },
  {
   "cell_type": "code",
   "execution_count": null,
   "id": "veterinary-coordinator",
   "metadata": {},
   "outputs": [],
   "source": [
    "calc.run(shuffle_sys, inp, basis[bnames[1]], name=basis[bnames[1]].name, \n",
    "         basis_set_proj=basis[bnames[0]], run_dir=join(workdir, geom),  **calc_args_large)\n",
    "copy2(join(workdir, geom, basis[bnames[1]].name, basis[bnames[1]].name + \".Inp\"),\n",
    "      join(dry_run, geom, basis[bnames[1]].name, basis[bnames[1]].name + \".Inp\"))"
   ]
  },
  {
   "cell_type": "code",
   "execution_count": null,
   "id": "thermal-rating",
   "metadata": {},
   "outputs": [],
   "source": [
    "while not calc.check_results(): sleep(10.0)\n",
    "logfiles = {x: y.log for x, y in calc.calculations.items()}"
   ]
  },
  {
   "cell_type": "code",
   "execution_count": null,
   "id": "elementary-flooring",
   "metadata": {},
   "outputs": [],
   "source": [
    "print([v.get_timings(\"SCF_Driv\")[0]/3600 for k, v in logfiles.items() if \"pc\" in k])"
   ]
  },
  {
   "cell_type": "markdown",
   "id": "foster-tobacco",
   "metadata": {},
   "source": [
    "Target accuracy calculation."
   ]
  },
  {
   "cell_type": "code",
   "execution_count": null,
   "id": "prime-honey",
   "metadata": {},
   "outputs": [],
   "source": [
    "guess = logfiles[basis[bnames[1]].name].densalp\n",
    "with suppress(OSError):\n",
    "    put_guess_matrix(join(workdir, geom), \"target\", dens_alp_file=guess)\n",
    "with suppress(OSError):\n",
    "    put_guess_matrix(join(dry_run, geom), \"target\", dens_alp_file=guess)"
   ]
  },
  {
   "cell_type": "code",
   "execution_count": null,
   "id": "regulated-prague",
   "metadata": {},
   "outputs": [],
   "source": [
    "inp = Inputfile()\n",
    "general_setup(inp, accuracy=\"high\", shift=False, hf=False)\n",
    "inp.set_scf_guess(\"readdens\")\n",
    "inp[\"scf\"].icharg = sum(charges.values())"
   ]
  },
  {
   "cell_type": "code",
   "execution_count": null,
   "id": "through-candidate",
   "metadata": {},
   "outputs": [],
   "source": [
    "calc.run(shuffle_sys, inp, basis[bnames[1]], name=\"target\", \n",
    "         run_dir=join(workdir, geom),  **calc_args_large)\n",
    "copy2(join(workdir, geom, \"target\", \"target.Inp\"),\n",
    "      join(dry_run, geom, \"target\", \"target.Inp\"))"
   ]
  },
  {
   "cell_type": "code",
   "execution_count": null,
   "id": "specialized-luxembourg",
   "metadata": {},
   "outputs": [],
   "source": [
    "while not calc.check_results(): sleep(10.0)\n",
    "logfiles = {x: y.log for x, y in calc.calculations.items()}"
   ]
  },
  {
   "cell_type": "markdown",
   "id": "2ed8c152",
   "metadata": {},
   "source": [
    "Create the timing chart."
   ]
  },
  {
   "cell_type": "code",
   "execution_count": null,
   "id": "942a383f",
   "metadata": {},
   "outputs": [],
   "source": [
    "from matplotlib import pyplot as plt\n",
    "fig, axs = plt.subplots(1, 1)\n",
    "\n",
    "keys = [\"pcseg_0_hf\", \"pcseg_0\", \"pcseg_1\", \"target\"]\n",
    "times = [logfiles[x].get_timings(\"SCF_Driv\")[0]/3600 for x in keys]\n",
    "sv = sum(times)\n",
    "\n",
    "axs.plot(times, \n",
    "         marker='o', color='C0', linestyle='--', markersize=12)\n",
    "axs.set_ylabel(\"Time (h)\", fontsize=18)\n",
    "axs.set_ylim(0, sv*1.1)\n",
    "axs.set_xticks(range(len(times)))\n",
    "axs.set_xticklabels([\"PCSEG-0-HF/LOW\", \"PCSEG-0-DFT/LOW\", \n",
    "                     \"PCSEG-1-DFT/LOW\", \"PCSEG-1-DFT/HIGH\"], rotation=90)\n",
    "axs.axhline(sv, color='k', linewidth=2, label=\"Total\")\n",
    "axs.tick_params(axis='both', which='major', labelsize=16)\n",
    "axs.legend(prop={'size': 14})\n",
    "\n",
    "plt.savefig(\"timings-dft.png\", dpi=600, bbox_inches = \"tight\")"
   ]
  }
 ],
 "metadata": {
  "kernelspec": {
   "display_name": "Python 3 (ipykernel)",
   "language": "python",
   "name": "python3"
  },
  "language_info": {
   "codemirror_mode": {
    "name": "ipython",
    "version": 3
   },
   "file_extension": ".py",
   "mimetype": "text/x-python",
   "name": "python",
   "nbconvert_exporter": "python",
   "pygments_lexer": "ipython3",
   "version": "3.7.7"
  }
 },
 "nbformat": 4,
 "nbformat_minor": 5
}
