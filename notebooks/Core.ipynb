{
 "cells": [
  {
   "cell_type": "markdown",
   "id": "played-method",
   "metadata": {},
   "source": [
    "# Core Analysis\n",
    "Examine the core density matrix using the Complexity Reduction Framework."
   ]
  },
  {
   "cell_type": "code",
   "execution_count": null,
   "id": "entertaining-cosmetic",
   "metadata": {},
   "outputs": [],
   "source": [
    "from os.path import join\n",
    "geom = \"renumber\"\n",
    "bsets = [\"pcseg-0\", \"pcseg-1\", \"pcseg-2\"]\n",
    "\n",
    "markers = {}\n",
    "msize = {}\n",
    "colors = {}\n",
    "markers[\"pcseg_0\"] = \"+\"\n",
    "markers[\"pcseg_1\"] = \"x\"\n",
    "markers[\"pcseg_2\"] = \"d\"\n",
    "markers[\"pcseg_3\"] = \"v\"\n",
    "msize[\"pcseg_0\"] = 12\n",
    "msize[\"pcseg_1\"] = 12\n",
    "msize[\"pcseg_2\"] = 8\n",
    "msize[\"pcseg_3\"] = 8\n",
    "colors[\"pcseg_0\"] = \"C0\"\n",
    "colors[\"pcseg_1\"] = \"C1\"\n",
    "colors[\"pcseg_2\"] = \"C2\"\n",
    "colors[\"pcseg_3\"] = \"C3\""
   ]
  },
  {
   "cell_type": "code",
   "execution_count": null,
   "id": "chicken-volunteer",
   "metadata": {},
   "outputs": [],
   "source": [
    "from pyntchem.io import read_pdb\n",
    "with open(join(\"input\", geom + \".pdb\")) as ifile:\n",
    "    sys = read_pdb(ifile)"
   ]
  },
  {
   "cell_type": "markdown",
   "id": "painted-chancellor",
   "metadata": {},
   "source": [
    "Get number of electrons, core, virtual."
   ]
  },
  {
   "cell_type": "code",
   "execution_count": null,
   "id": "attempted-harvard",
   "metadata": {},
   "outputs": [],
   "source": [
    "nel = 0\n",
    "ncore = 0\n",
    "for frag in sys.values():\n",
    "    for at in frag:\n",
    "        nel += at.nel\n",
    "        if at.sym != \"H\":\n",
    "            ncore += 1\n",
    "\n",
    "nocc = int(nel/2)\n",
    "print(nocc, ncore)"
   ]
  },
  {
   "cell_type": "markdown",
   "id": "dominant-suffering",
   "metadata": {},
   "source": [
    "## Calculations\n",
    "Setup the calculations and run."
   ]
  },
  {
   "cell_type": "code",
   "execution_count": null,
   "id": "technical-modification",
   "metadata": {},
   "outputs": [],
   "source": [
    "from pyntchem.basis import BasisSet\n",
    "basis = [BasisSet(x, sys.get_symlookup()) for x in bsets]"
   ]
  },
  {
   "cell_type": "code",
   "execution_count": null,
   "id": "binary-danger",
   "metadata": {},
   "outputs": [],
   "source": [
    "from pyntchem.inputfile import Inputfile\n",
    "inp = Inputfile()\n",
    "inp.set_custom_dft({\"pbe\": 0.75}, {\"pbe\": 1.0}, 0.25)\n",
    "inp.set_dft_prune_grid(50, 194)\n",
    "inp.set_scf_guess(\"readdens\")\n",
    "inp[\"scf\"].pulayperiod = 2\n",
    "inp[\"scf\"].facdamp = 0.95\n",
    "inp[\"scf\"].writeanal = True\n",
    "\n",
    "inp[\"int2\"].prelinkjthreshold = 1e-8\n",
    "inp[\"int2\"].prelinkkthreshold = 1e-4"
   ]
  },
  {
   "cell_type": "code",
   "execution_count": null,
   "id": "commercial-defensive",
   "metadata": {},
   "outputs": [],
   "source": [
    "from pyntchem.calculator import JobscriptCalculator\n",
    "calc = JobscriptCalculator(computer=\"Spring\", skip=True, verbose=True)\n",
    "args = {\"nodes\": 1, \"tasks_per_node\": 4, \"omp\": 9,  \"queue\": \"winter2\"}"
   ]
  },
  {
   "cell_type": "markdown",
   "id": "fundamental-ceremony",
   "metadata": {},
   "source": [
    "Compute everything."
   ]
  },
  {
   "cell_type": "code",
   "execution_count": null,
   "id": "reduced-integrity",
   "metadata": {},
   "outputs": [],
   "source": [
    "from pyntchem.preprocessing import put_guess_matrix\n",
    "from contextlib import suppress\n",
    "from time import sleep\n",
    "    \n",
    "for b in basis:\n",
    "    alp = join(\"work-basis\", b.name, b.name + \".DensAlp.mtx\")\n",
    "\n",
    "    with suppress(IOError):\n",
    "        put_guess_matrix(join(\"work-ch\"), \n",
    "                         b.name, dens_alp_file=alp)\n",
    "\n",
    "    calc.run(sys, inp, b, name=b.name, \n",
    "             run_dir=join(\"work-ch\"),  **args)\n",
    "\n",
    "while not calc.check_results(): sleep(10.0)\n",
    "logfiles = {x: y.log for x, y in calc.calculations.items()}"
   ]
  },
  {
   "cell_type": "markdown",
   "id": "royal-category",
   "metadata": {},
   "source": [
    "## Analysis\n",
    "Generate the required quantities."
   ]
  },
  {
   "cell_type": "code",
   "execution_count": null,
   "id": "directed-token",
   "metadata": {},
   "outputs": [],
   "source": [
    "from pyntchem.postprocessing import NTChemTool\n",
    "tool = NTChemTool()"
   ]
  },
  {
   "cell_type": "markdown",
   "id": "impressed-boulder",
   "metadata": {},
   "source": [
    "Special versions that can manually accept a matrix and number of electron values."
   ]
  },
  {
   "cell_type": "code",
   "execution_count": null,
   "id": "waiting-words",
   "metadata": {},
   "outputs": [],
   "source": [
    "def run_compute_purity(self, sys, log, charges, kxs):\n",
    "    from scipy.sparse import csc_matrix\n",
    "    from scipy.io import mmread\n",
    "    from pyntchem.postprocessing import _compute_purity_values\n",
    "\n",
    "    fidx = self.get_frag_indices(sys, log)\n",
    "    purity_array = _compute_purity_values(csc_matrix(kxs), charges, fidx)\n",
    "\n",
    "    return purity_array\n",
    "\n",
    "def fragment_bond_order(self, sys, fraglist1, fraglist2, log, kxs):\n",
    "    from scipy.io import mmread\n",
    "    from scipy.sparse import csr_matrix, csc_matrix\n",
    "    from pyntchem.postprocessing import units_quadratic_traces\n",
    "\n",
    "    frag_indices = self.get_frag_indices(sys, log)\n",
    "\n",
    "    slist1 = sorted(fraglist1, key=lambda x: min(frag_indices[x]))\n",
    "    slist2 = sorted(fraglist2, key=lambda x: min(frag_indices[x]))\n",
    "    bond_orders = units_quadratic_traces(slist1, slist2, frag_indices,\n",
    "                                         csc_matrix(kxs),\n",
    "                                         csr_matrix(kxs), 0.5, 0.5)\n",
    "\n",
    "    return bond_orders"
   ]
  },
  {
   "cell_type": "markdown",
   "id": "opposite-jaguar",
   "metadata": {},
   "source": [
    "Manually generated the density matrices P and PC."
   ]
  },
  {
   "cell_type": "code",
   "execution_count": null,
   "id": "chicken-steal",
   "metadata": {},
   "outputs": [],
   "source": [
    "from scipy.io import mmread\n",
    "from scipy.linalg import funm\n",
    "from numpy import sqrt\n",
    "from numpy import identity\n",
    "from numpy.linalg import eigh\n",
    "\n",
    "P = {}\n",
    "PC = {}\n",
    "for b in basis:\n",
    "    S = mmread(logfiles[b.name].overlap).todense()\n",
    "    H = mmread(logfiles[b.name].fockalp).todense()\n",
    "    I = identity(S.shape[0])\n",
    "    \n",
    "    ISQ = funm(S, lambda x: -1.0/sqrt(x))\n",
    "    WH = ISQ.dot(H).dot(ISQ)\n",
    "    \n",
    "    w, v = eigh(WH)\n",
    "\n",
    "    P[b.name] = 2 * v[:, :nocc].dot(v[:, :nocc].T)\n",
    "    PC[b.name] = 2 * v[:, :ncore].dot(v[:, :ncore].T)"
   ]
  },
  {
   "cell_type": "markdown",
   "id": "level-minister",
   "metadata": {},
   "source": [
    "Compare the sparsity of the two types of density matrices."
   ]
  },
  {
   "cell_type": "code",
   "execution_count": null,
   "id": "varied-tragedy",
   "metadata": {},
   "outputs": [],
   "source": [
    "def compute_sparsity(mat, thresh):\n",
    "    k = 0\n",
    "    for i in range(mat.shape[0]):\n",
    "        for j in range(mat.shape[1]):\n",
    "            if abs(mat[i, j]) < thresh:\n",
    "                k += 1\n",
    "    return 100*k / (mat.shape[0]*mat.shape[1])"
   ]
  },
  {
   "cell_type": "code",
   "execution_count": null,
   "id": "macro-diabetes",
   "metadata": {},
   "outputs": [],
   "source": [
    "for b in basis:\n",
    "    print(b.name, \"%.2f\"% compute_sparsity(P[b.name], 1e-5), \"%.2f\"% \n",
    "          compute_sparsity(PC[b.name], 1e-5))"
   ]
  },
  {
   "cell_type": "markdown",
   "id": "fifth-scratch",
   "metadata": {},
   "source": [
    "We need these \"charges\" dictionaries to describe how many electrons are in a block."
   ]
  },
  {
   "cell_type": "code",
   "execution_count": null,
   "id": "offshore-indonesian",
   "metadata": {},
   "outputs": [],
   "source": [
    "charges = {}\n",
    "for fragid, frag in sys.items():\n",
    "    charges[fragid] = sum(x.nel for x in frag)\n",
    "    \n",
    "core_charges = {}\n",
    "for fragid, frag in sys.items():\n",
    "    core_charges[fragid] = sum(1 for x in frag if x.sym != \"H\")"
   ]
  },
  {
   "cell_type": "markdown",
   "id": "regular-plenty",
   "metadata": {},
   "source": [
    "Now we're ready to compute the purities and bond orders."
   ]
  },
  {
   "cell_type": "code",
   "execution_count": null,
   "id": "global-leadership",
   "metadata": {},
   "outputs": [],
   "source": [
    "purities_occupied = {}\n",
    "purities_core = {}\n",
    "\n",
    "for b in basis:\n",
    "    purities_occupied[b.name] = run_compute_purity(tool, sys, logfiles[b.name], charges, P[b.name])\n",
    "    purities_core[b.name] = run_compute_purity(tool, sys, logfiles[b.name], core_charges, PC[b.name])"
   ]
  },
  {
   "cell_type": "code",
   "execution_count": null,
   "id": "virgin-combine",
   "metadata": {},
   "outputs": [],
   "source": [
    "bond_orders_occupied = {}\n",
    "bond_orders_core = {}\n",
    "\n",
    "for b in basis:\n",
    "    log = logfiles[b.name]\n",
    "    bond_orders_occupied[b.name] = fragment_bond_order(tool, sys, list(sys), list(sys), log, kxs=P[b.name])\n",
    "    bond_orders_core[b.name] = fragment_bond_order(tool, sys, list(sys), list(sys), log, kxs=PC[b.name])"
   ]
  },
  {
   "cell_type": "markdown",
   "id": "hidden-virgin",
   "metadata": {},
   "source": [
    "Order for plotting. We will use the BigDFT values to decide them."
   ]
  },
  {
   "cell_type": "code",
   "execution_count": null,
   "id": "diagnostic-consensus",
   "metadata": {},
   "outputs": [],
   "source": [
    "from pickle import load\n",
    "with open(\"bigdft.cache\", \"rb\") as ifile:\n",
    "    bdftp, bdfto = load(ifile)"
   ]
  },
  {
   "cell_type": "code",
   "execution_count": null,
   "id": "visible-atlantic",
   "metadata": {},
   "outputs": [],
   "source": [
    "order = sorted(sys, key=lambda x: int(x.split(\":\")[1]))"
   ]
  },
  {
   "cell_type": "code",
   "execution_count": null,
   "id": "further-exhaust",
   "metadata": {},
   "outputs": [],
   "source": [
    "relevant = []\n",
    "for k1, v1 in bdfto.items():\n",
    "    for k2, v2 in v1.items():\n",
    "        if k1 == k2:\n",
    "            continue\n",
    "        if (k2, k1) in relevant:\n",
    "            continue\n",
    "        if \"MOL\" in k1:\n",
    "            if v2 > 1e-2:\n",
    "                relevant.append((k1, k2))\n",
    "        else:\n",
    "            if v2 > 5e-3:\n",
    "                relevant.append((k1, k2))\n",
    "relevant = sorted(relevant, key=lambda x: int(x[0].split(\":\")[1]))"
   ]
  },
  {
   "cell_type": "markdown",
   "id": "alpha-mattress",
   "metadata": {},
   "source": [
    "Plot purities and bond orders."
   ]
  },
  {
   "cell_type": "code",
   "execution_count": null,
   "id": "sexual-bullet",
   "metadata": {},
   "outputs": [],
   "source": [
    "from matplotlib import pyplot as plt\n",
    "fig, axs = plt.subplots(1, 2, figsize=(8, 5))\n",
    "\n",
    "for key, val in purities_occupied.items():\n",
    "    axs[0].plot([abs(val[k]) for k in order], \n",
    "                marker=markers[key], markersize=msize[key], label=key,\n",
    "                color=colors[key])\n",
    "    axs[0].plot([abs(purities_core[key][k]) for k in order], linestyle='--',\n",
    "                marker=markers[key], markersize=msize[key], color=colors[key])\n",
    "    \n",
    "axs[0].set_yscale(\"log\")\n",
    "axs[0].set_xticks(range(len(order)))\n",
    "axs[0].set_xticklabels(order, rotation=90)\n",
    "axs[0].set_ylim(1e-6, 1e-1)\n",
    "axs[0].tick_params(axis='both', which='major', labelsize=16)\n",
    "axs[0].set_ylabel(\"Purity Indicator\", fontsize=18)\n",
    "\n",
    "for key, val in bond_orders_occupied.items():\n",
    "    axs[1].plot([val[k[0]][k[1]] for k in relevant], \n",
    "             marker=markers[key], markersize=msize[key], label=key.upper().replace(\"_\", \"-\"),\n",
    "             color=colors[key])\n",
    "    axs[1].plot([bond_orders_core[key][k[0]][k[1]] for k in relevant], linestyle='--',\n",
    "             marker=markers[key], markersize=msize[key], color=colors[key])\n",
    "    \n",
    "axs[1].legend(loc=\"lower center\", ncol=2, prop={'size': 11})\n",
    "axs[1].set_ylim(5e-9, 1)\n",
    "axs[1].set_xticks(range(len(relevant)))\n",
    "axs[1].set_xticklabels([\"-\".join(x) for x in relevant], rotation=90)\n",
    "axs[1].set_yscale(\"log\")\n",
    "axs[1].tick_params(axis='both', which='major', labelsize=16)\n",
    "\n",
    "axs[1].set_ylabel(\"Fragment Bond Order\", fontsize=18)\n",
    "fig.tight_layout()\n",
    "# fig.savefig(\"core_occ.png\", dpi=600)"
   ]
  },
  {
   "cell_type": "markdown",
   "id": "first-attachment",
   "metadata": {},
   "source": [
    "## Atomic Fragmentation\n",
    "Look at the values using the atoms as their own fragments (remove hydrogens as well). For this we need a new system and charge values."
   ]
  },
  {
   "cell_type": "code",
   "execution_count": null,
   "id": "broad-linux",
   "metadata": {},
   "outputs": [],
   "source": [
    "from pyntchem.systems import System\n",
    "from pyntchem.fragments import Fragment\n",
    "asys = System()\n",
    "i = 0\n",
    "achrg = {}\n",
    "achrgc = {}\n",
    "for fragid in order:\n",
    "    frag = sys[fragid]\n",
    "    for at in frag:\n",
    "        if at.sym == \"H\":\n",
    "            continue\n",
    "        asys[\"FRA:\"+str(i)] = Fragment([at])\n",
    "        achrg[\"FRA:\"+str(i)] = at.nel\n",
    "        achrgc[\"FRA:\"+str(i)] = 2\n",
    "        i += 1"
   ]
  },
  {
   "cell_type": "markdown",
   "id": "comic-pharmacy",
   "metadata": {},
   "source": [
    "Recompute purity."
   ]
  },
  {
   "cell_type": "code",
   "execution_count": null,
   "id": "instrumental-contributor",
   "metadata": {},
   "outputs": [],
   "source": [
    "ap = {}\n",
    "for b in basis:\n",
    "    ap[b.name] = run_compute_purity(tool, asys, logfiles[b.name], achrg, P[b.name])\n",
    "apc = {}\n",
    "for b in basis:\n",
    "    apc[b.name] = run_compute_purity(tool, asys, logfiles[b.name], achrgc, PC[b.name])"
   ]
  },
  {
   "cell_type": "markdown",
   "id": "genetic-cylinder",
   "metadata": {},
   "source": [
    "Plot."
   ]
  },
  {
   "cell_type": "code",
   "execution_count": null,
   "id": "extraordinary-chester",
   "metadata": {},
   "outputs": [],
   "source": [
    "fig, axs = plt.subplots(1, 1)\n",
    "\n",
    "for b in basis:\n",
    "    axs.plot([abs(x) for x in ap[b.name].values()], \n",
    "             marker=markers[b.name], color=colors[b.name],\n",
    "             markersize=msize[b.name], label=b.name.upper().replace(\"_\", \"-\"))\n",
    "    axs.plot([abs(x) for x in apc[b.name].values()], \n",
    "             marker=markers[b.name], color=colors[b.name],\n",
    "             markersize=msize[b.name], linestyle=\"--\")\n",
    "\n",
    "axs.set_xticks(range(len(list(asys))))\n",
    "axs.set_xticklabels([x[0].sym for x in asys.values()])\n",
    "axs.tick_params(axis='both', which='major', labelsize=14)\n",
    "axs.set_ylim(1e-4, 1)\n",
    "axs.set_yscale(\"log\")\n",
    "\n",
    "axs.set_ylabel(\"Purity Indicator\", fontsize=18)\n",
    "axs.legend()\n",
    "fig.tight_layout()\n",
    "# fig.savefig(\"PI-Core.png\", dpi=600)"
   ]
  },
  {
   "cell_type": "markdown",
   "id": "dependent-shanghai",
   "metadata": {},
   "source": [
    "## Eigenvalue Computations\n",
    "We need a new atomic system that includes the hydrogens."
   ]
  },
  {
   "cell_type": "code",
   "execution_count": null,
   "id": "quick-committee",
   "metadata": {},
   "outputs": [],
   "source": [
    "asys2 = System()\n",
    "core_charges2 = {}\n",
    "i = 0\n",
    "for frag in sys.values():\n",
    "    for at in frag:\n",
    "        asys2[\"FRA:\"+str(i)] = Fragment([at])\n",
    "        i += 1\n",
    "        core_charges2[\"FRA:\"+str(i)] = at.nel"
   ]
  },
  {
   "cell_type": "markdown",
   "id": "ultimate-discrimination",
   "metadata": {},
   "source": [
    "Compute the eigenvalues (reference)."
   ]
  },
  {
   "cell_type": "code",
   "execution_count": null,
   "id": "saved-configuration",
   "metadata": {},
   "outputs": [],
   "source": [
    "envelopes = {}\n",
    "envelopes[\"Core\"] = (0, 29)\n",
    "envelopes[\"Valence\"] = (30, nocc)\n",
    "envelopes[\"Virtual\"] = (nocc, 323)"
   ]
  },
  {
   "cell_type": "code",
   "execution_count": null,
   "id": "phantom-strength",
   "metadata": {},
   "outputs": [],
   "source": [
    "w = {}\n",
    "for b in basis:\n",
    "    S = mmread(logfiles[b.name].overlap).todense()\n",
    "    H = mmread(logfiles[b.name].fockalp).todense()\n",
    "    \n",
    "    ISQ = funm(S, lambda x: -1.0/sqrt(x))\n",
    "    WH = ISQ.dot(H).dot(ISQ)\n",
    "    \n",
    "    w[b.name], _ = eigh(WH)\n",
    "    \n",
    "    # Basis, homo-lumo gap, core-valence gap\n",
    "    print(b.name, 27.2114*(w[b.name][nocc] - w[b.name][nocc - 1]),\n",
    "                  27.2114*(w[b.name][29] - w[b.name][29-1]))"
   ]
  },
  {
   "cell_type": "markdown",
   "id": "actual-browse",
   "metadata": {},
   "source": [
    "Local in space approach without embedding first for fragments."
   ]
  },
  {
   "cell_type": "code",
   "execution_count": null,
   "id": "boolean-radio",
   "metadata": {},
   "outputs": [],
   "source": [
    "w_block = {}\n",
    "for b in basis:\n",
    "    w_block[b.name] = []\n",
    "    S = mmread(logfiles[b.name].overlap).todense()\n",
    "    H = mmread(logfiles[b.name].fockalp).todense()\n",
    "    log = logfiles[b.name]\n",
    "    \n",
    "    ISQ = funm(S, lambda x: -1.0/sqrt(x))\n",
    "    WH = ISQ.dot(H).dot(ISQ)\n",
    "\n",
    "    frag_indices = tool.get_frag_indices(sys, log)\n",
    "    for fragid in sys:\n",
    "        submat = WH[:,frag_indices[fragid]]\n",
    "        submat = submat[frag_indices[fragid], :]\n",
    "        \n",
    "        eig, _ = eigh(submat)\n",
    "        w_block[b.name].extend(eig)\n",
    "    w_block[b.name] = sorted(w_block[b.name])"
   ]
  },
  {
   "cell_type": "markdown",
   "id": "supreme-reconstruction",
   "metadata": {},
   "source": [
    "Then for the atoms."
   ]
  },
  {
   "cell_type": "code",
   "execution_count": null,
   "id": "blessed-auckland",
   "metadata": {},
   "outputs": [],
   "source": [
    "w_atm = {}\n",
    "for b in basis:\n",
    "    w_atm[b.name] = []\n",
    "    S = mmread(logfiles[b.name].overlap).todense()\n",
    "    H = mmread(logfiles[b.name].fockalp).todense()\n",
    "    log = logfiles[b.name]\n",
    "    \n",
    "    ISQ = funm(S, lambda x: -1.0/sqrt(x))\n",
    "    WH = ISQ.dot(H).dot(ISQ)\n",
    "\n",
    "    frag_indices = tool.get_frag_indices(asys2, log)\n",
    "    for fragid in asys2:\n",
    "        submat = WH[:,frag_indices[fragid]]\n",
    "        submat = submat[frag_indices[fragid], :]\n",
    "        \n",
    "        eig, _ = eigh(submat)\n",
    "        w_atm[b.name].extend(eig)\n",
    "    w_atm[b.name] = sorted(w_atm[b.name])"
   ]
  },
  {
   "cell_type": "markdown",
   "id": "informational-helen",
   "metadata": {},
   "source": [
    "Plot errors."
   ]
  },
  {
   "cell_type": "code",
   "execution_count": null,
   "id": "mobile-henry",
   "metadata": {},
   "outputs": [],
   "source": [
    "from numpy import array\n",
    "fig, axs = plt.subplots(1, len(basis), figsize=(12, 6))\n",
    "for i, b in enumerate(basis):\n",
    "    data = []\n",
    "    labels = []\n",
    "    for e, r in envelopes.items():\n",
    "        data.append([27.2114*abs(x - y) for x, y in zip(w_atm[b.name][r[0]:r[1]], w[b.name][r[0]:r[1]])])\n",
    "        labels.append(\"ATOM-\" + e)\n",
    "    for e, r in envelopes.items():\n",
    "        data.append([27.2114*abs(x - y) for x, y in zip(w_block[b.name][r[0]:r[1]], w[b.name][r[0]:r[1]])])\n",
    "        labels.append(\"Fragment-\" + e)\n",
    "    axs[i].set_ylim(3e-4, 30)\n",
    "        \n",
    "    axs[i].boxplot(data)\n",
    "    axs[i].set_yscale(\"log\")\n",
    "        \n",
    "    axs[i].set_xticks(range(1, len(labels)+1))\n",
    "    axs[i].set_xticklabels(labels, rotation=90)\n",
    "    axs[i].tick_params(axis='both', which='major', labelsize=16)\n",
    "    \n",
    "axs[0].set_title(\"PCSEG-0\", fontsize=18)\n",
    "axs[1].set_title(\"PCSEG-1\", fontsize=18)\n",
    "axs[2].set_title(\"PCSEG-2\", fontsize=18)\n",
    "axs[0].set_ylabel(\"Error (eV)\", fontsize=18)\n",
    "fig.tight_layout()\n",
    "# fig.savefig(\"orb-error.png\", dpi=600)"
   ]
  },
  {
   "cell_type": "markdown",
   "id": "legislative-auditor",
   "metadata": {},
   "source": [
    "Print out the nitrogen errors."
   ]
  },
  {
   "cell_type": "code",
   "execution_count": null,
   "id": "classical-sympathy",
   "metadata": {},
   "outputs": [],
   "source": [
    "for b in basis:\n",
    "    print(b.name)\n",
    "    print(\"Atomic & \" + \" & \".join([\"%.2f\"% (27.2114 * x) for x in w_atm[b.name][13:16]]) + \"\\\\\\\\\")\n",
    "    print(\"Fragment & \" + \" & \".join([\"%.2f\"% (27.2114 * x) for x in w_block[b.name][13:16]]) + \"\\\\\\\\\")\n",
    "    print(\"Full & \" + \" & \".join([\"%.2f\"% (27.2114 * x) for x in w[b.name][13:16]]) + \"\\\\\\\\\")"
   ]
  },
  {
   "cell_type": "markdown",
   "id": "removed-leader",
   "metadata": {},
   "source": [
    "## Embedding Correction\n",
    "We recompute these nitrogen values using the embedding technique."
   ]
  },
  {
   "cell_type": "code",
   "execution_count": null,
   "id": "endless-coaching",
   "metadata": {},
   "outputs": [],
   "source": [
    "nfrags = [x for x in asys2 if asys2[x][0].sym == \"N\"]\n",
    "embed = {}\n",
    "threshold = 1e-4\n",
    "\n",
    "for b in basis:\n",
    "    print(b.name)\n",
    "    embed[b.name] = {}\n",
    "    for n in nfrags:\n",
    "        bon = fragment_bond_order(tool, asys2, [n],\n",
    "                                  [x for x in asys2 if x != n], \n",
    "                                  logfiles[b.name], kxs=PC[b.name])[n]\n",
    "        embed[b.name][n] = []\n",
    "        while sum(bon.values()) > threshold:\n",
    "            maxv = max(bon, key=bon.get)\n",
    "            _ = bon.pop(maxv)\n",
    "            embed[b.name][n].append(maxv)\n",
    "        print(n, embed[b.name][n], [asys2[at][0].sym for at in embed[b.name][n]])"
   ]
  },
  {
   "cell_type": "markdown",
   "id": "dutch-praise",
   "metadata": {},
   "source": [
    "Draw the embedding environment."
   ]
  },
  {
   "cell_type": "code",
   "execution_count": null,
   "id": "prompt-korea",
   "metadata": {},
   "outputs": [],
   "source": [
    "from BigDFT.Interop.RDKitInterop import convert_system_to_rdkit, rdkit_visualize\n",
    "from BigDFT.Fragments import Fragment\n",
    "from IPython.display import SVG\n",
    "from BigDFT.Visualization import get_colordict\n",
    "from os import system\n",
    "tempsys = System()\n",
    "tempsys[\"TAR:0\"] = Fragment()\n",
    "tempsys[\"BUF:1\"] = Fragment()\n",
    "tempsys[\"OUT:2\"] = Fragment()\n",
    "for fragid in asys2:\n",
    "    if fragid in ['FRA:25', 'FRA:24', 'FRA:6', 'FRA:26', \n",
    "                  'FRA:19', 'FRA:22', 'FRA:4', 'FRA:28', 'FRA:10']:\n",
    "        tempsys[\"BUF:1\"] += asys2[fragid]\n",
    "    elif fragid == \"FRA:21\":\n",
    "        tempsys[\"TAR:0\"] = asys2[fragid]\n",
    "    else:\n",
    "        tempsys[\"OUT:2\"] += asys2[fragid]\n",
    "from pyntchem.io import write_pdb\n",
    "with open(\"temp.pdb\", \"w\") as ofile:\n",
    "    write_pdb(tempsys, ofile)\n",
    "system(\"obabel -ipdb temp.pdb -opdb > temp-con.pdb\")\n",
    "from BigDFT import IO\n",
    "with open(\"temp-con.pdb\", \"r\") as ifile:\n",
    "    tempsys = IO.read_pdb(ifile)\n",
    "rsys = convert_system_to_rdkit(tempsys)\n",
    "\n",
    "colordict = {\"TAR:0\": (1,0.0,0), \"BUF:1\": (93/255,63/255,211/255), \"OUT:2\": (220/255,220/255,220/255)}\n",
    "print(get_colordict(list(tempsys)))\n",
    "SVG(rdkit_visualize(tempsys, format=\"SVG\", colordict=colordict))\n",
    "with open(\"buffer.svg\", \"w\") as ofile:\n",
    "    ofile.write(rdkit_visualize(tempsys, format=\"SVG\", colordict=colordict))"
   ]
  },
  {
   "cell_type": "markdown",
   "id": "swiss-falls",
   "metadata": {},
   "source": [
    "Compute."
   ]
  },
  {
   "cell_type": "code",
   "execution_count": null,
   "id": "tutorial-skating",
   "metadata": {},
   "outputs": [],
   "source": [
    "from numpy import diag\n",
    "for b in basis[:]:\n",
    "    print(b.name)\n",
    "    S = mmread(logfiles[b.name].overlap).todense()\n",
    "    H = mmread(logfiles[b.name].fockalp).todense()\n",
    "    log = logfiles[b.name]\n",
    "    \n",
    "    ISQ = funm(S, lambda x: -1.0/sqrt(x))\n",
    "    WH = ISQ.dot(H).dot(ISQ)\n",
    "    \n",
    "    for n in nfrags:\n",
    "        subsys = System()\n",
    "        subsys[n] = asys2[n]\n",
    "        for fid in embed[b.name][n]:\n",
    "            subsys[fid] = asys2[fid]\n",
    "        frag_indices = tool.get_frag_indices(subsys, log)\n",
    "        sublen = len(frag_indices[n])\n",
    "        \n",
    "        subhmat = WH[:, sum(frag_indices.values(), [])]\n",
    "        subhmat = subhmat[sum(frag_indices.values(), []), :]\n",
    "        eigs, vecs = eigh(subhmat)\n",
    "        \n",
    "        vecs2 = PC[b.name][:, frag_indices[n]]\n",
    "        vecs2 = vecs2[frag_indices[n], :]\n",
    "        \n",
    "        # we can use range sublen because we explicitly made the target the first fragment\n",
    "        vecs = vecs[range(sublen), :]\n",
    "        prod = vecs.T.dot(vecs2).dot(vecs)\n",
    "        \n",
    "        weights = diag(prod)\n",
    "            \n",
    "        idx = sorted(range(len(weights)), key=weights.__getitem__, reverse=True)[:sublen]\n",
    "        pvals = sorted([27.2114*eigs[i] for i in idx])\n",
    "        print(pvals[0])"
   ]
  }
 ],
 "metadata": {
  "kernelspec": {
   "display_name": "Python 3 (ipykernel)",
   "language": "python",
   "name": "python3"
  },
  "language_info": {
   "codemirror_mode": {
    "name": "ipython",
    "version": 3
   },
   "file_extension": ".py",
   "mimetype": "text/x-python",
   "name": "python",
   "nbconvert_exporter": "python",
   "pygments_lexer": "ipython3",
   "version": "3.10.8"
  }
 },
 "nbformat": 4,
 "nbformat_minor": 5
}
