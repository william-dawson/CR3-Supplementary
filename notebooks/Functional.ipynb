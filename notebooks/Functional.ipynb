{
 "cells": [
  {
   "cell_type": "markdown",
   "id": "graphic-liberty",
   "metadata": {},
   "source": [
    "# Functional Dependence\n",
    "In this notebook we will check the functional dependence of the purity indicator and bond orders."
   ]
  },
  {
   "cell_type": "code",
   "execution_count": null,
   "id": "refined-isolation",
   "metadata": {},
   "outputs": [],
   "source": [
    "from os.path import join\n",
    "geom = \"renumber\"\n",
    "functionals = [\"PBE\", \"BLYP\", \"HF\", \"B3LYP\", \"PBE0\", \"M06L\", \"SCAN\"]\n",
    "\n",
    "markers = {}\n",
    "msize = {}\n",
    "markers[\"PBE\"] = \"o\"\n",
    "markers[\"BLYP\"] = \"*\"\n",
    "markers[\"HF\"] = \"d\"\n",
    "markers[\"B3LYP\"] = \"v\"\n",
    "markers[\"PBE0\"] = \"+\"\n",
    "markers[\"M06L\"] = \"x\"\n",
    "markers[\"SCAN\"] = \".\"\n",
    "\n",
    "msize[\"PBE\"] = 12\n",
    "msize[\"BLYP\"] = 12\n",
    "msize[\"HF\"] = 12\n",
    "msize[\"B3LYP\"] = 12\n",
    "msize[\"PBE0\"] = 16\n",
    "msize[\"M06L\"] = 16\n",
    "msize[\"SCAN\"] = 8\n",
    "\n",
    "bset = \"pcseg-1\""
   ]
  },
  {
   "cell_type": "markdown",
   "id": "cc84c2b5",
   "metadata": {},
   "source": [
    "Read in the geometry."
   ]
  },
  {
   "cell_type": "code",
   "execution_count": null,
   "id": "ethical-customs",
   "metadata": {},
   "outputs": [],
   "source": [
    "from pyntchem.io import read_pdb\n",
    "with open(join(\"input\", geom + \".pdb\")) as ifile:\n",
    "    sys = read_pdb(ifile)"
   ]
  },
  {
   "cell_type": "markdown",
   "id": "dd108105",
   "metadata": {},
   "source": [
    "Basis set."
   ]
  },
  {
   "cell_type": "code",
   "execution_count": null,
   "id": "raising-christopher",
   "metadata": {},
   "outputs": [],
   "source": [
    "from pyntchem.basis import BasisSet\n",
    "basis = BasisSet(bset, sys.get_symlookup())"
   ]
  },
  {
   "cell_type": "markdown",
   "id": "billion-intranet",
   "metadata": {},
   "source": [
    "Guess matrix comes from the calculations of basis dependence."
   ]
  },
  {
   "cell_type": "code",
   "execution_count": null,
   "id": "useful-police",
   "metadata": {},
   "outputs": [],
   "source": [
    "alp = join(\"work-basis\", basis.name, basis.name + \".DensAlp.mtx\")"
   ]
  },
  {
   "cell_type": "code",
   "execution_count": null,
   "id": "caring-enlargement",
   "metadata": {},
   "outputs": [],
   "source": [
    "from pyntchem.calculator import JobscriptCalculator\n",
    "calc = JobscriptCalculator(computer=\"Spring\", skip=True, verbose=True)\n",
    "args = {\"nodes\": 1, \"tasks_per_node\": 4, \"omp\": 9,  \"queue\": \"winter2\"}"
   ]
  },
  {
   "cell_type": "markdown",
   "id": "polyphonic-jonathan",
   "metadata": {},
   "source": [
    "Iterate over functions."
   ]
  },
  {
   "cell_type": "code",
   "execution_count": null,
   "id": "identical-reform",
   "metadata": {},
   "outputs": [],
   "source": [
    "from pyntchem.preprocessing import put_guess_matrix\n",
    "from contextlib import suppress\n",
    "from pyntchem.inputfile import Inputfile\n",
    "from time import sleep\n",
    "\n",
    "# Note the different grids for metaggas\n",
    "for fun in functionals:\n",
    "    inp = Inputfile()\n",
    "    if fun == \"PBE\":\n",
    "        inp.set_basic_dft(xtype=\"pbe\", ctype=\"pbe\")\n",
    "        inp.set_dft_prune_grid(50, 194)\n",
    "    elif fun == \"BLYP\":\n",
    "        inp.set_basic_dft(xtype=\"b88\", ctype=\"lyp\")\n",
    "        inp.set_dft_prune_grid(50, 194)\n",
    "    elif fun == \"HF\":\n",
    "        inp.set_basic_rhf()\n",
    "    elif fun == \"B3LYP\":\n",
    "        inp.set_basic_dft(xctype=\"B3LYP\")\n",
    "        inp.set_dft_prune_grid(50, 194)\n",
    "    elif fun == \"PBE0\":\n",
    "        inp.set_custom_dft({\"pbe\": 0.75}, {\"pbe\": 1.0}, 0.25)\n",
    "        inp.set_dft_prune_grid(50, 194)\n",
    "    elif fun == \"M06L\":\n",
    "        inp.set_basic_dft(xctype=\"M06L\")\n",
    "        inp.set_dft_prune_grid(75, 302)\n",
    "    elif fun == \"MN12L\":\n",
    "        inp.set_basic_dft(xctype=\"MN12L\")\n",
    "        inp.set_dft_prune_grid(75, 302)\n",
    "    elif fun == \"SCAN\":\n",
    "        inp.set_basic_dft(xctype=\"SCAN\")\n",
    "        inp.set_dft_prune_grid(75, 302)\n",
    "    else:\n",
    "        print(fun)\n",
    "        break\n",
    "\n",
    "    inp.set_scf_guess(\"readdens\")\n",
    "    inp[\"scf\"].pulayperiod = 2\n",
    "    inp[\"scf\"].facdamp = 0.95\n",
    "    inp[\"scf\"].writeanal = True\n",
    "    inp[\"scf\"].vshift = 0\n",
    "\n",
    "    inp[\"int2\"].prelinkjthreshold = 1e-8\n",
    "    inp[\"int2\"].prelinkkthreshold = 1e-4\n",
    "    \n",
    "    with suppress(IOError):\n",
    "        put_guess_matrix(join(\"work-func\"), \n",
    "                         fun, dens_alp_file=alp)\n",
    "    \n",
    "    calc.run(sys, inp, basis, name=fun, \n",
    "             run_dir=join(\"work-func\"),  **args)\n",
    "    \n",
    "while not calc.check_results(): sleep(10.0)\n",
    "logfiles = {x: y.log for x, y in calc.calculations.items()}"
   ]
  },
  {
   "cell_type": "markdown",
   "id": "private-spank",
   "metadata": {},
   "source": [
    "Post-process to look at the purity values."
   ]
  },
  {
   "cell_type": "code",
   "execution_count": null,
   "id": "approved-second",
   "metadata": {},
   "outputs": [],
   "source": [
    "from pyntchem.postprocessing import NTChemTool\n",
    "tool = NTChemTool()\n",
    "\n",
    "purities = {}\n",
    "for f in functionals:\n",
    "    log = logfiles[f]\n",
    "    purities[f] = tool.run_compute_purity(sys, log)"
   ]
  },
  {
   "cell_type": "markdown",
   "id": "infinite-spain",
   "metadata": {},
   "source": [
    "Also bond order values."
   ]
  },
  {
   "cell_type": "code",
   "execution_count": null,
   "id": "latin-climate",
   "metadata": {},
   "outputs": [],
   "source": [
    "bond_orders = {}\n",
    "for f in functionals:\n",
    "    log = logfiles[f]\n",
    "    bond_orders[f] = tool.fragment_bond_order(sys, list(sys), list(sys), log)"
   ]
  },
  {
   "cell_type": "markdown",
   "id": "hydraulic-lunch",
   "metadata": {},
   "source": [
    "Read in BigDFT results."
   ]
  },
  {
   "cell_type": "code",
   "execution_count": null,
   "id": "surprising-middle",
   "metadata": {},
   "outputs": [],
   "source": [
    "from pickle import load\n",
    "with open(\"bigdft.cache\", \"rb\") as ifile:\n",
    "    purities[\"BigDFT-PBE\"], bond_orders[\"BigDFT-PBE\"] = load(ifile)"
   ]
  },
  {
   "cell_type": "markdown",
   "id": "injured-omega",
   "metadata": {},
   "source": [
    "Plot purity values."
   ]
  },
  {
   "cell_type": "code",
   "execution_count": null,
   "id": "empirical-internship",
   "metadata": {},
   "outputs": [],
   "source": [
    "order = sorted(sys, key=lambda x: int(x.split(\":\")[1]))"
   ]
  },
  {
   "cell_type": "code",
   "execution_count": null,
   "id": "acoustic-silly",
   "metadata": {},
   "outputs": [],
   "source": [
    "from matplotlib import pyplot as plt\n",
    "fig, axs = plt.subplots(1, 1, figsize=(5, 4))\n",
    "\n",
    "for f in functionals:\n",
    "    axs.plot([purities[f][k] for k in order], label=f,\n",
    "             marker=markers[f], markersize=msize[f])\n",
    "    \n",
    "axs.plot([purities[\"BigDFT-PBE\"][k] for k in order], \n",
    "         label=\"BigDFT-PBE\", linestyle=\"--\", color='k',\n",
    "         linewidth=2)\n",
    "    \n",
    "axs.legend(loc=\"lower left\", ncol=2)\n",
    "axs.set_ylim(-0.06, 0)\n",
    "axs.set_xticks(range(len(order)))\n",
    "axs.set_xticklabels(order, rotation=90)\n",
    "axs.tick_params(axis='both', which='major', labelsize=16)\n",
    "axs.set_ylabel(\"Purity Indicator\", fontsize=18)\n",
    "fig.tight_layout()\n",
    "fig.savefig(\"functional-pi.png\", dpi=600)"
   ]
  },
  {
   "cell_type": "markdown",
   "id": "backed-healing",
   "metadata": {},
   "source": [
    "Bond order."
   ]
  },
  {
   "cell_type": "code",
   "execution_count": null,
   "id": "average-tablet",
   "metadata": {},
   "outputs": [],
   "source": [
    "relevant = []\n",
    "for k1, v1 in bond_orders[\"BigDFT-PBE\"].items():\n",
    "    for k2, v2 in v1.items():\n",
    "        if k1 == k2:\n",
    "            continue\n",
    "        if (k2, k1) in relevant:\n",
    "            continue\n",
    "        if \"MOL\" in k1:\n",
    "            if v2 > 1e-2:\n",
    "                relevant.append((k1, k2))\n",
    "        else:\n",
    "            if v2 > 5e-3:\n",
    "                relevant.append((k1, k2))\n",
    "relevant = sorted(relevant, key=lambda x: int(x[0].split(\":\")[1]))"
   ]
  },
  {
   "cell_type": "code",
   "execution_count": null,
   "id": "needed-passing",
   "metadata": {},
   "outputs": [],
   "source": [
    "fig, axs = plt.subplots(1, 1, figsize=(5, 5))\n",
    "\n",
    "for f in functionals:\n",
    "    axs.plot([bond_orders[f][k[0]][k[1]] for k in relevant], label=f,\n",
    "              marker=markers[f], markersize=msize[f])\n",
    "    \n",
    "axs.plot([bond_orders[\"BigDFT-PBE\"][k[0]][k[1]] for k in relevant], \n",
    "         label=\"BigDFT-PBE\", linestyle=\"--\", color='k', linewidth=2)\n",
    "    \n",
    "axs.legend(loc=\"upper left\", ncol=2)\n",
    "axs.set_xticks(range(len(relevant)))\n",
    "axs.set_xticklabels([\"-\".join(x) for x in relevant], rotation=90)\n",
    "axs.set_ylim(5e-3, 5)\n",
    "axs.set_yscale(\"log\")\n",
    "\n",
    "axs.tick_params(axis='both', which='major', labelsize=16)\n",
    "axs.set_ylabel(\"Fragment Bond Order\", fontsize=18)\n",
    "fig.tight_layout()\n",
    "fig.savefig(\"functional-fbo.png\", dpi=600)"
   ]
  }
 ],
 "metadata": {
  "kernelspec": {
   "display_name": "Python 3 (ipykernel)",
   "language": "python",
   "name": "python3"
  },
  "language_info": {
   "codemirror_mode": {
    "name": "ipython",
    "version": 3
   },
   "file_extension": ".py",
   "mimetype": "text/x-python",
   "name": "python",
   "nbconvert_exporter": "python",
   "pygments_lexer": "ipython3",
   "version": "3.10.8"
  }
 },
 "nbformat": 4,
 "nbformat_minor": 5
}
